{
 "cells": [
  {
   "cell_type": "markdown",
   "metadata": {
    "deletable": true,
    "editable": true
   },
   "source": [
    "# Kaggle competition: Human or Robot? "
   ]
  },
  {
   "cell_type": "markdown",
   "metadata": {
    "deletable": true,
    "editable": true
   },
   "source": [
    "### About the Problem"
   ]
  },
  {
   "cell_type": "markdown",
   "metadata": {
    "deletable": true,
    "editable": true
   },
   "source": [
    "__This is the final report of my approach in a interesting _[Kaggle competition](https://www.kaggle.com/c/facebook-recruiting-iv-human-or-bot)_ hosted by Facebook. We are giving data describing bidders' bidding behaviors in an online auction website. The goal of the competition is to come up with a predictive model that can recognize whether a bidder is human or robot.__"
   ]
  },
  {
   "cell_type": "markdown",
   "metadata": {
    "deletable": true,
    "editable": true
   },
   "source": [
    "### Exploratory Data Analysis"
   ]
  },
  {
   "cell_type": "markdown",
   "metadata": {
    "deletable": true,
    "editable": true
   },
   "source": [
    "* A quick dive in to data before building predictive models by plotting bidding behaviors over time indicates that there are obvious behavioral difference between human bidders and robot bidders. Robot bidders usually make series of bids in a short period of time (high bidding speed), while human bidders have much lower bidding speed;\n",
    "\n",
    "\n",
    "* Robot bidders do make much more bids in average than human bidders;\n",
    "\n",
    "\n",
    "* The merchandises in which robot bidders are more likely to make bids, in decreasing order, are mobile, sporting goods, and jewelry. And bidding behaviors could be very different between different merchandises;\n",
    "\n",
    "\n",
    "* Some countries (like Japan, Korea and Macau) have much more percentage of robot bidders while some countries have much lower percentage of robot bidders."
   ]
  },
  {
   "cell_type": "markdown",
   "metadata": {
    "deletable": true,
    "editable": true
   },
   "source": [
    "### Feature Engineering"
   ]
  },
  {
   "cell_type": "markdown",
   "metadata": {
    "deletable": true,
    "editable": true
   },
   "source": [
    "##### Original set of features:\n",
    "\n",
    "* **avg_dev:**      average number of devices are used for each bidder, per auction  \n",
    "\n",
    "\n",
    "* **max_dev:**      maximum number of devices are used for each bidder, per auction\n",
    "\n",
    "\n",
    "* **min_dev:**      minimum number of devices are used for each bidder, per auction\n",
    "\n",
    "\n",
    "* **avg_num_bids:** average number of bids a bidder made, per auction\n",
    "\n",
    "\n",
    "* **max_num_bids:** maximum number of bids a bidder made, per auction\n",
    "\n",
    "\n",
    "* **min_num_bids:** minimum number of bids a bidder made, per auction\n",
    "\n",
    "\n",
    "* **avg_num_cou:**  average number of countries in which bidders make bids, per auction\n",
    "\n",
    "\n",
    "* **max_num_bids:** maximum number of countries in which bidders make bids, per auction\n",
    "\n",
    "\n",
    "* **min_num_bids:** minimum number of countries in which bidders make bids, per auction\n",
    "\n",
    "\n",
    "* **avg_speed:**    average bidding speed for bidders, per auction\n",
    "\n",
    "\n",
    "* **max_speed:**    maximum bidding speed for bidders, per auction\n",
    "\n",
    "\n",
    "* **min_speed:**    minimum bidding speed for bidders, per auction\n",
    "\n",
    "\n",
    "* **merchandise:**  the category of the auction site campaign\n",
    "\n",
    "\n",
    "* **country:**      country codes represented by numbers\n",
    "\n",
    "\n",
    "* **device:**       device model codes represented by numbers\n",
    "\n",
    "\n",
    " This set of features are used in the first and second part of predictive modeling (which compares results between tuning and non-tuning models)\n",
    "\n",
    "##### Additional set of features:\n",
    "* **IP address:** Top 10 most frequent IP address in which bidders made bids (one-hot encoding)\n",
    "\n",
    "\n",
    "* **country:**    Top 10 most frequent countries in which bidders made bids (one-hot encoding)\n",
    "\n",
    "\n",
    "* **device:**     Top 20 most frequently used devices (one-hot encoding)\n",
    "\n",
    "\n",
    "* **url:**        URL \"vasstdc27m7nks3\" or other URLs, boolean variable (0: other URLs, 1: URL \"vasstdc27m7nks3\")\n",
    "\n",
    "\n",
    " The second set of features are created to improve models' performance. However, this does not increase both accuracy and auc score too much"
   ]
  },
  {
   "cell_type": "markdown",
   "metadata": {
    "deletable": true,
    "editable": true
   },
   "source": [
    "### Predictive Modeling"
   ]
  },
  {
   "cell_type": "markdown",
   "metadata": {
    "deletable": true,
    "editable": true
   },
   "source": [
    "    In building classification models, three sets of models are built to compare different modeling methods:\n",
    "\n",
    "**First set:**\n",
    "   \n",
    "    Models using original features without fine-tuning and over-sampling\n",
    "\n",
    "**Second set:**\n",
    "\n",
    "    Models using original features with fine-tuning to find best combination of parameters and over-sampling to deal with imbalanced data.\n",
    "\n",
    "**Third set:**\n",
    "\n",
    "    Models using additional features with fine-tuning and over-sampling"
   ]
  },
  {
   "cell_type": "markdown",
   "metadata": {
    "deletable": true,
    "editable": true
   },
   "source": [
    "**Summary**  \n",
    "\n",
    "    Among all three sets of models, Random Forest (RF) and AdaBoost (AB) have the best auc scores (scores of RF is a little bit better than those of AB). Other modeling algorithms like k-Nearest-Neighbors and Logistic Regression have much lower AUC scores in average. \n",
    "\n",
    "    I used 5-fold cross validation, which is a relatively better number of folds (not too time-consuming), to fine-tuning and evaluating the models. Fine-tuning RF models takes relatively more time, but it is still very much tolerable. I tuned models using AUC scoring because AUC scores are the only way to evaluate prediction results in this Kaggle competition. And since the data are imbalanced (5% labeled robots, 95% human), we must consider resampling the data to get better results. According to the number of observations of data, over-sampling method will result in better results.\n",
    "    \n",
    "    Here is the table of results of all the models:\n",
    "    \n",
    "    \n",
    "|        Models       | Original Features| Original Features         |       Additional Features      |\n",
    "|:-------------------:|:-------------:|:----------------------------:|:------------------------------:|\n",
    "|                     | AUC (untuned) | AUC (tuned and over-sampled) |   AUC (tuned and over-sampled) |\n",
    "|    Random Forest    |  0.80         |   0.82                       |   0.84                         |\n",
    "| k-Nearest-Neighbors |  0.72         |   0.76                       |   0.76                         |\n",
    "| Logistic Regression |  0.66         |   0.74                       |   0.69                         |\n",
    "|       AdaBoost      |  0.81         |   0.84                       |   0.84                         |\n",
    "|  Anomaly Detection  |  0.80         |   N/A                        |   0.73                         |"
   ]
  },
  {
   "cell_type": "markdown",
   "metadata": {
    "deletable": true,
    "editable": true
   },
   "source": [
    "### Ideas for Further Research"
   ]
  },
  {
   "cell_type": "markdown",
   "metadata": {
    "deletable": true,
    "editable": true
   },
   "source": [
    "* **Feature Engineering**  \n",
    "   Feature engineering is always a very important part in building predictive models. According to the results, adding more features do not increase the models' AUC scores significantly (for some models, AUC score even decreased). Therefore, in the future, I need to spend more time on exploring the data set, and then come up with more meaningful ideas to create new features.\n",
    "\n",
    "\n",
    "* **Trying more modeling algorithms**  \n",
    "   In this capstone project, I only used 5 algorithms (4 supervised and 1 unsupervised) to build models. However, there may be other algorithms which could be more suitable for this problem."
   ]
  },
  {
   "cell_type": "markdown",
   "metadata": {
    "deletable": true,
    "editable": true
   },
   "source": [
    "### Recommandations"
   ]
  },
  {
   "cell_type": "markdown",
   "metadata": {
    "deletable": true,
    "editable": true
   },
   "source": [
    "According to my findings, the following recommandations will help the company to better recognize robot bidders:  \n",
    "\n",
    "* **Countries**  \n",
    "   Focus on bidders in certain countries/districts like Japan, Korea, Macau, Taiwan, German, US. Because in these countries, bidders much more likely to be classified as robots.  \n",
    "   \n",
    "   \n",
    "* **Devices**  \n",
    "   Certain models of devices that robot biders are more likely to use to making bids. Focusing on these models will increase the chance of recognizing robot bidders.  \n",
    "   \n",
    "   \n",
    "* **Bidding Speed**  \n",
    "   Bidding speed is an very important difference between human and robot bidders. Robots are able to make a large number of bids in a short period of time. So in real bidding events, once a bidder's bidding speed is recognized as \"abnormal\", the bidder should be classified as a robot bidder.  "
   ]
  }
 ],
 "metadata": {
  "anaconda-cloud": {},
  "kernelspec": {
   "display_name": "Python [Root]",
   "language": "python",
   "name": "Python [Root]"
  },
  "language_info": {
   "codemirror_mode": {
    "name": "ipython",
    "version": 3
   },
   "file_extension": ".py",
   "mimetype": "text/x-python",
   "name": "python",
   "nbconvert_exporter": "python",
   "pygments_lexer": "ipython3",
   "version": "3.5.2"
  }
 },
 "nbformat": 4,
 "nbformat_minor": 0
}
