{
 "cells": [
  {
   "cell_type": "markdown",
   "metadata": {
    "deletable": true,
    "editable": true
   },
   "source": [
    "# Facebook Recruiting IV: Human or Robot? _[Kaggle competition](https://www.kaggle.com/c/facebook-recruiting-iv-human-or-bot)_\n",
    "\n",
    "## Is the bid made by Human or by Robot?"
   ]
  },
  {
   "cell_type": "markdown",
   "metadata": {
    "deletable": true,
    "editable": true
   },
   "source": [
    "Human bidders on the site are becoming increasingly frustrated with their inability to win auctions vs. their software-controlled counterparts. As a result, usage from the site's core customer base is plummeting.\n",
    "\n",
    "In order to rebuild customer happiness, the site owners need to eliminate computer generated bidding from their auctions. Their attempt at building a model to identify these bids using behavioral data, including bid frequency over short periods of time, has proven insufficient. \n",
    "\n",
    "The goal of this project is to identify online auction bids that are placed by \"robots\", helping the site owners easily flag these users for removal from their site to prevent unfair auction activity. "
   ]
  },
  {
   "cell_type": "markdown",
   "metadata": {
    "deletable": true,
    "editable": true
   },
   "source": [
    "## Known issues\n",
    "\n",
    "1. bid frequency over short periods of time has proven insufficient\n",
    "2. The outcome was half hand labeled, half stats-based. There are two types of \"bots\" with different levels of proof:\n",
    "   * Bidders who are identified as bots/fraudulent with clear proof. Their accounts were banned by the auction site.\n",
    "   * Bidder who may have just started their business/clicks or their stats exceed from system wide average. There are no clear proof that they are bots. "
   ]
  },
  {
   "cell_type": "markdown",
   "metadata": {
    "deletable": true,
    "editable": true
   },
   "source": [
    "## Questions to be explored:\n",
    "\n",
    "1. What are the behavioral differences/similarities between human and robot bidders? \n",
    "2. Does concept of \"outliers\" make sense in this senario?\n",
    "3. Which countries have more robots bidders? \n",
    "4. Which devices people prefer to run bid-software?\n",
    "5. Which merchandises do robot bidders prefer?\n",
    "6. Can the two types of 'bots' be distinguished?"
   ]
  },
  {
   "cell_type": "code",
   "execution_count": 1,
   "metadata": {
    "collapsed": true,
    "deletable": true,
    "editable": true
   },
   "outputs": [],
   "source": [
    "#load all necessary packages\n",
    "import pandas as pd\n",
    "import numpy as np\n",
    "import matplotlib.pyplot as plt\n",
    "import seaborn as sns\n",
    "%matplotlib inline\n",
    "\n",
    "from IPython.display import display\n",
    "\n",
    "import warnings\n",
    "warnings.filterwarnings(\"ignore\")"
   ]
  },
  {
   "cell_type": "code",
   "execution_count": 2,
   "metadata": {
    "collapsed": false,
    "deletable": true,
    "editable": true
   },
   "outputs": [
    {
     "data": {
      "text/html": [
       "<div>\n",
       "<table border=\"1\" class=\"dataframe\">\n",
       "  <thead>\n",
       "    <tr style=\"text-align: right;\">\n",
       "      <th></th>\n",
       "      <th>bid_id</th>\n",
       "      <th>bidder_id</th>\n",
       "      <th>auction</th>\n",
       "      <th>merchandise</th>\n",
       "      <th>device</th>\n",
       "      <th>time</th>\n",
       "      <th>country</th>\n",
       "      <th>ip</th>\n",
       "      <th>url</th>\n",
       "    </tr>\n",
       "  </thead>\n",
       "  <tbody>\n",
       "    <tr>\n",
       "      <th>0</th>\n",
       "      <td>0</td>\n",
       "      <td>8dac2b259fd1c6d1120e519fb1ac14fbqvax8</td>\n",
       "      <td>ewmzr</td>\n",
       "      <td>jewelry</td>\n",
       "      <td>phone0</td>\n",
       "      <td>9759243157894736</td>\n",
       "      <td>us</td>\n",
       "      <td>69.166.231.58</td>\n",
       "      <td>vasstdc27m7nks3</td>\n",
       "    </tr>\n",
       "    <tr>\n",
       "      <th>1</th>\n",
       "      <td>1</td>\n",
       "      <td>668d393e858e8126275433046bbd35c6tywop</td>\n",
       "      <td>aeqok</td>\n",
       "      <td>furniture</td>\n",
       "      <td>phone1</td>\n",
       "      <td>9759243157894736</td>\n",
       "      <td>in</td>\n",
       "      <td>50.201.125.84</td>\n",
       "      <td>jmqlhflrzwuay9c</td>\n",
       "    </tr>\n",
       "    <tr>\n",
       "      <th>2</th>\n",
       "      <td>2</td>\n",
       "      <td>aa5f360084278b35d746fa6af3a7a1a5ra3xe</td>\n",
       "      <td>wa00e</td>\n",
       "      <td>home goods</td>\n",
       "      <td>phone2</td>\n",
       "      <td>9759243157894736</td>\n",
       "      <td>py</td>\n",
       "      <td>112.54.208.157</td>\n",
       "      <td>vasstdc27m7nks3</td>\n",
       "    </tr>\n",
       "    <tr>\n",
       "      <th>3</th>\n",
       "      <td>3</td>\n",
       "      <td>3939ac3ef7d472a59a9c5f893dd3e39fh9ofi</td>\n",
       "      <td>jefix</td>\n",
       "      <td>jewelry</td>\n",
       "      <td>phone4</td>\n",
       "      <td>9759243157894736</td>\n",
       "      <td>in</td>\n",
       "      <td>18.99.175.133</td>\n",
       "      <td>vasstdc27m7nks3</td>\n",
       "    </tr>\n",
       "    <tr>\n",
       "      <th>4</th>\n",
       "      <td>4</td>\n",
       "      <td>8393c48eaf4b8fa96886edc7cf27b372dsibi</td>\n",
       "      <td>jefix</td>\n",
       "      <td>jewelry</td>\n",
       "      <td>phone5</td>\n",
       "      <td>9759243157894736</td>\n",
       "      <td>in</td>\n",
       "      <td>145.138.5.37</td>\n",
       "      <td>vasstdc27m7nks3</td>\n",
       "    </tr>\n",
       "  </tbody>\n",
       "</table>\n",
       "</div>"
      ],
      "text/plain": [
       "   bid_id                              bidder_id auction merchandise  device  \\\n",
       "0       0  8dac2b259fd1c6d1120e519fb1ac14fbqvax8   ewmzr     jewelry  phone0   \n",
       "1       1  668d393e858e8126275433046bbd35c6tywop   aeqok   furniture  phone1   \n",
       "2       2  aa5f360084278b35d746fa6af3a7a1a5ra3xe   wa00e  home goods  phone2   \n",
       "3       3  3939ac3ef7d472a59a9c5f893dd3e39fh9ofi   jefix     jewelry  phone4   \n",
       "4       4  8393c48eaf4b8fa96886edc7cf27b372dsibi   jefix     jewelry  phone5   \n",
       "\n",
       "               time country              ip              url  \n",
       "0  9759243157894736      us   69.166.231.58  vasstdc27m7nks3  \n",
       "1  9759243157894736      in   50.201.125.84  jmqlhflrzwuay9c  \n",
       "2  9759243157894736      py  112.54.208.157  vasstdc27m7nks3  \n",
       "3  9759243157894736      in   18.99.175.133  vasstdc27m7nks3  \n",
       "4  9759243157894736      in    145.138.5.37  vasstdc27m7nks3  "
      ]
     },
     "execution_count": 2,
     "metadata": {},
     "output_type": "execute_result"
    }
   ],
   "source": [
    "#load and view data\n",
    "data = pd.read_csv('Data/bids.csv')\n",
    "data.head()"
   ]
  },
  {
   "cell_type": "code",
   "execution_count": 3,
   "metadata": {
    "collapsed": false,
    "deletable": true,
    "editable": true
   },
   "outputs": [],
   "source": [
    "#define functions for convinience\n",
    "#----------------------------------#\n",
    "#- Function name: categorising    -#\n",
    "#- Usage: to convert string       -#\n",
    "#-        features to categorical -#\n",
    "#-        features and represent  -#\n",
    "#-        data by their codes     -#\n",
    "#- Arguments:                     -#\n",
    "#-      data: dataset for analysis-#\n",
    "#-    column1-3: columns to be    -#\n",
    "#-               converted        -#\n",
    "#----------------------------------#\n",
    "def categorising(data, column1, column2, column3):\n",
    "    data[column1] = data[column1].astype('category')\n",
    "    data[column2] = data[column2].astype('category')\n",
    "    data[column3] = data[column3].astype('category')\n",
    "    cat_columns = data.select_dtypes(['category']).columns\n",
    "    #represent data by their codes\n",
    "    data[cat_columns] = data[cat_columns].apply(lambda x: x.cat.codes)\n",
    "#------------------------------------#\n",
    "#- Function name: mergedata         -#\n",
    "#- Usage: to merge two data sets    -#\n",
    "#-        on their common columns   -#\n",
    "#- Arguments:                       -#\n",
    "#-      data: dataset for analysis  -#\n",
    "#-    bidder: selected bidder for   -#\n",
    "#-            further analysis,     -#\n",
    "#-            the bidders are almost-#\n",
    "#-            randomly selected     -#\n",
    "#------------------------------------#\n",
    "def mergedata(data, bidder):\n",
    "    mer_bidder = data.merge(bidder, left_on = 'bidder_id', right_on = 'bidder_id', how = 'left')\n",
    "    return mer_bidder[mer_bidder.payment_account.notnull()]\n",
    "#-----------------------------------#\n",
    "#- Function name: scatter_plot     -#\n",
    "#- Usage: to build scatter plots   -#\n",
    "#-        on bid_id and time       -#\n",
    "#- Arguments:                      -#\n",
    "#-    auctions: code of auctions   -#\n",
    "#-      data: dataset for analysis -#\n",
    "#-      ncol: number of columns for-#\n",
    "#-            the subplots         -#\n",
    "#-      nrow: number of rows for   -#\n",
    "#-            the subplots         -#\n",
    "#-----------------------------------#\n",
    "def scatter_plot(auctions, data, ncol, nrow):\n",
    "    #set up figure size and subplots\n",
    "    fig, axs = plt.subplots(ncols = ncol, nrows = nrow, figsize = (12, 15), sharex =True, sharey=True)\n",
    "    i = 0\n",
    "    for auction in auctions.index:\n",
    "        df = data[data['auction'] == auction]\n",
    "        sns.regplot(x = 'bid_id', y = 'time', data = df, ax = axs[i], fit_reg=False)\n",
    "        axs[i].set_title('auction: {}'.format(auction))\n",
    "        i += 1\n",
    "    fig.tight_layout()\n",
    "#----------------------------------#\n",
    "#- Function name: conv_bar_plot   -#\n",
    "#- Usage: to convert string values-#\n",
    "#-        to numericals ones and  -#\n",
    "#-        build a bar plot        -#\n",
    "#- Arguments:                     -#\n",
    "#-      data: dataset for analysis-#\n",
    "#-    column: the column used for -#\n",
    "#-            build bar plot      -#\n",
    "#----------------------------------#\n",
    "def conv_bar_plot(data, column):\n",
    "    #change string values to numerical ones.\n",
    "    mer_cates = data[column].unique()\n",
    "    num_cates = range(len(mer_cates))\n",
    "    train_bid.replace(mer_cates, num_cates, inplace = True)\n",
    "    _ = sns.barplot(data=data, x=column, y='outcome')\n",
    "    _ = plt.ylabel('percentage labeled as robots')\n",
    "    _ = plt.title('which {} do robot bidders prefer?'.format(column))\n",
    "#--------------------------------------#\n",
    "#- Function name: bids_per_auction    -#\n",
    "#- Usage: to build histogram of       -#\n",
    "#-        number of bids that a       -#\n",
    "#-        bidder made per auction     -#\n",
    "#- Arguments:                         -#\n",
    "#-      data: dataset for analysis    -#\n",
    "#-  columns1: contain two columns     -#\n",
    "#-            one used for groupby;   -#\n",
    "#-            the other as denominator-#\n",
    "#-  columns2: contain two columns     -#\n",
    "#-            one used for groupby;   -#\n",
    "#-            the other as numerator  -#\n",
    "#--------------------------------------#\n",
    "def bids_per_auction(data, columns1=[], columns2=[]):\n",
    "    bots_num_auction = pd.DataFrame(data[data['outcome'] == 1][columns1]\\\n",
    "                       .groupby(columns1[0])[columns1[1]].nunique())\n",
    "    bots_num_bids = data[data['outcome'] == 1][columns2].groupby(columns2[0]).count()\n",
    "    bots_avg = pd.DataFrame(bots_num_bids[columns2[1]]/bots_num_auction[columns1[1]])\n",
    "    bots_avg = bots_avg.rename(columns = {0:'average bids per auction'})\n",
    "    fig, axses = plt.subplots(ncols = 2, nrows = 1, figsize = (15, 5), sharex =False, sharey=False)\n",
    "    _ = sns.distplot(bots_avg['average bids per auction'],\n",
    "                     hist_kws=dict(cumulative=True),\n",
    "                     kde_kws=dict(cumulative=True), ax = axses[0])\n",
    "    _ = axses[0].set_ylabel('frequency')\n",
    "    _ = axses[0].set_xlabel('number of bids per auction per bidder')\n",
    "    _ = axses[0].set_title('How many bids does a ROBOT bidder made averagely per auction')\n",
    "    human_num_auction = pd.DataFrame(data[data['outcome'] == 0][columns1]\\\n",
    "                       .groupby(columns1[0])[columns1[1]].nunique())\n",
    "    human_num_bids = data[data['outcome'] == 0][columns2].groupby(columns2[0]).count()\n",
    "    human_avg = pd.DataFrame(human_num_bids[columns2[1]]/human_num_auction[columns1[1]])\n",
    "    human_avg = human_avg.rename(columns = {0:'average bids per auction'})\n",
    "    _ = sns.distplot(human_avg.drop('916d2d806b772c9f227a9b3640e31469ljrxo')['average bids per auction'],\n",
    "                     hist_kws=dict(cumulative=True),\n",
    "                     kde_kws=dict(cumulative=True), ax = axses[1])\n",
    "    _ = axses[1].set_ylabel('frequency')\n",
    "    _ = axses[1].set_xlabel('number of bids per auction per bidder')\n",
    "    _ = axses[1].set_title('How many bids does a HUMAN bidder made averagely per auction')\n",
    "#-----------------------------------#\n",
    "#- Function name: dist_most        -#\n",
    "#- Usage: to visualize proportion  -#\n",
    "#-        of bots bidders for      -#\n",
    "#-        categorical variables    -#\n",
    "#- Arguments:                      -#\n",
    "#-      data: the dataset used     -#\n",
    "#-            used for analysis    -#\n",
    "#-      column: the variable to be -#\n",
    "#-              visualized         -#\n",
    "#-----------------------------------#\n",
    "def dist_most(data, column):\n",
    "    grouped_cols = pd.DataFrame(data.groupby('outcome')[column].value_counts()).\\\n",
    "                             rename(columns={column:'number_of_bidders'}).reset_index()\n",
    "    grouped_cols_bots = grouped_cols[grouped_cols.outcome == 1]\n",
    "    grouped_cols_human = grouped_cols[grouped_cols.outcome == 0]\n",
    "    merged = grouped_cols_human.merge(grouped_cols_bots, left_on = column, right_on = column, how = 'left')\n",
    "    merged['proportion'] = merged.number_of_bidders_y/(merged.number_of_bidders_y + merged.number_of_bidders_x)\n",
    "    merged_grouped = merged.sort('proportion').dropna()\n",
    "    merged_grouped = merged_grouped[(merged_grouped['number_of_bidders_x']\\\n",
    "                                        +merged_grouped['number_of_bidders_y'])>= 500]\n",
    "    merged_grouped.rename(columns={'number_of_bidders_x': 'num_human_bidders', \n",
    "                                   'number_of_bidders_y':'num_bots_bidders'}, inplace = True)\n",
    "    display(merged_grouped.tail(10))\n",
    "    _ = sns.distplot(merged_grouped.proportion, bins = 20, kde=False, rug=False)\n",
    "    _ = plt.xlabel(\"proportion of robot bidders\")\n",
    "    _ = plt.ylabel('frequency')\n",
    "    _ = plt.title('proportion of robot bidders by {}'.format(column))\n",
    "    fig, axes = plt.subplots(ncols = 2, nrows = 1, figsize = (10, 5), sharex =False, sharey=False)\n",
    "    plot_data = merged_grouped[[column, 'proportion']].set_index(column).tail(10)\n",
    "    _ = plot_data.plot(kind='bar', ax = axes[0])\n",
    "    _ = axes[0].set_ylabel('proportion')\n",
    "    _ = axes[0].set_title('Top 10 {} with largest percent of robot bidders'.format(column))\n",
    "    plot_data = merged_grouped[[column, 'proportion']].set_index(column).head(10)\n",
    "    _ = plot_data.plot(kind='bar', ax = axes[1])\n",
    "    _ = axes[1].set_ylabel('proportion')\n",
    "    _ = axes[1].set_title('Top 10 {} with smallest percent of robot bidders'.format(column))\n",
    "    plt.tight_layout()"
   ]
  },
  {
   "cell_type": "code",
   "execution_count": 4,
   "metadata": {
    "collapsed": false,
    "deletable": true,
    "editable": true
   },
   "outputs": [
    {
     "data": {
      "text/html": [
       "<div>\n",
       "<table border=\"1\" class=\"dataframe\">\n",
       "  <thead>\n",
       "    <tr style=\"text-align: right;\">\n",
       "      <th></th>\n",
       "      <th>bid_id</th>\n",
       "      <th>bidder_id</th>\n",
       "      <th>auction</th>\n",
       "      <th>merchandise</th>\n",
       "      <th>device</th>\n",
       "      <th>time</th>\n",
       "      <th>country</th>\n",
       "      <th>ip</th>\n",
       "      <th>url</th>\n",
       "      <th>payment_account</th>\n",
       "      <th>address</th>\n",
       "      <th>outcome</th>\n",
       "    </tr>\n",
       "  </thead>\n",
       "  <tbody>\n",
       "    <tr>\n",
       "      <th>1</th>\n",
       "      <td>1</td>\n",
       "      <td>668d393e858e8126275433046bbd35c6tywop</td>\n",
       "      <td>aeqok</td>\n",
       "      <td>furniture</td>\n",
       "      <td>phone1</td>\n",
       "      <td>9759243157894736</td>\n",
       "      <td>in</td>\n",
       "      <td>50.201.125.84</td>\n",
       "      <td>jmqlhflrzwuay9c</td>\n",
       "      <td>a3d2de7675556553a5f08e4c88d2c228ucoac</td>\n",
       "      <td>42a3b61a1fe69d66ad60f3e347aa09b1erfe2</td>\n",
       "      <td>0.0</td>\n",
       "    </tr>\n",
       "    <tr>\n",
       "      <th>5</th>\n",
       "      <td>5</td>\n",
       "      <td>e8291466de91b0eb4e1515143c7f74dexy2yr</td>\n",
       "      <td>3vi4t</td>\n",
       "      <td>mobile</td>\n",
       "      <td>phone7</td>\n",
       "      <td>9759243157894736</td>\n",
       "      <td>ru</td>\n",
       "      <td>91.107.221.27</td>\n",
       "      <td>vasstdc27m7nks3</td>\n",
       "      <td>2c198811bf76f74512e24f5a537e21f9o3kyh</td>\n",
       "      <td>4e408da3d4dc783220f7d7c6a2f6bb62fxl68</td>\n",
       "      <td>0.0</td>\n",
       "    </tr>\n",
       "    <tr>\n",
       "      <th>9</th>\n",
       "      <td>9</td>\n",
       "      <td>a58ace8b671a7531c88814bc86b2a34cf0crb</td>\n",
       "      <td>3zpkj</td>\n",
       "      <td>sporting goods</td>\n",
       "      <td>phone4</td>\n",
       "      <td>9759243210526315</td>\n",
       "      <td>za</td>\n",
       "      <td>123.28.123.226</td>\n",
       "      <td>vasstdc27m7nks3</td>\n",
       "      <td>a3d2de7675556553a5f08e4c88d2c22817wsw</td>\n",
       "      <td>a3d2de7675556553a5f08e4c88d2c228qg5i2</td>\n",
       "      <td>0.0</td>\n",
       "    </tr>\n",
       "    <tr>\n",
       "      <th>10</th>\n",
       "      <td>10</td>\n",
       "      <td>a58ace8b671a7531c88814bc86b2a34cf0crb</td>\n",
       "      <td>z6j8b</td>\n",
       "      <td>sporting goods</td>\n",
       "      <td>phone10</td>\n",
       "      <td>9759243210526315</td>\n",
       "      <td>ng</td>\n",
       "      <td>209.80.85.101</td>\n",
       "      <td>adgjz71s3p2oiau</td>\n",
       "      <td>a3d2de7675556553a5f08e4c88d2c22817wsw</td>\n",
       "      <td>a3d2de7675556553a5f08e4c88d2c228qg5i2</td>\n",
       "      <td>0.0</td>\n",
       "    </tr>\n",
       "    <tr>\n",
       "      <th>13</th>\n",
       "      <td>13</td>\n",
       "      <td>7e34a26c4c339e875997f4b9239d2b5fscng4</td>\n",
       "      <td>nbx39</td>\n",
       "      <td>mobile</td>\n",
       "      <td>phone13</td>\n",
       "      <td>9759243263157894</td>\n",
       "      <td>in</td>\n",
       "      <td>143.183.225.33</td>\n",
       "      <td>e5i17pk9wygxewv</td>\n",
       "      <td>d1154cf7f47d7be0579cf24f6df1edcaagi99</td>\n",
       "      <td>fe7698870c64030109477f0d692741bfb3jn2</td>\n",
       "      <td>0.0</td>\n",
       "    </tr>\n",
       "  </tbody>\n",
       "</table>\n",
       "</div>"
      ],
      "text/plain": [
       "    bid_id                              bidder_id auction     merchandise  \\\n",
       "1        1  668d393e858e8126275433046bbd35c6tywop   aeqok       furniture   \n",
       "5        5  e8291466de91b0eb4e1515143c7f74dexy2yr   3vi4t          mobile   \n",
       "9        9  a58ace8b671a7531c88814bc86b2a34cf0crb   3zpkj  sporting goods   \n",
       "10      10  a58ace8b671a7531c88814bc86b2a34cf0crb   z6j8b  sporting goods   \n",
       "13      13  7e34a26c4c339e875997f4b9239d2b5fscng4   nbx39          mobile   \n",
       "\n",
       "     device              time country              ip              url  \\\n",
       "1    phone1  9759243157894736      in   50.201.125.84  jmqlhflrzwuay9c   \n",
       "5    phone7  9759243157894736      ru   91.107.221.27  vasstdc27m7nks3   \n",
       "9    phone4  9759243210526315      za  123.28.123.226  vasstdc27m7nks3   \n",
       "10  phone10  9759243210526315      ng   209.80.85.101  adgjz71s3p2oiau   \n",
       "13  phone13  9759243263157894      in  143.183.225.33  e5i17pk9wygxewv   \n",
       "\n",
       "                          payment_account  \\\n",
       "1   a3d2de7675556553a5f08e4c88d2c228ucoac   \n",
       "5   2c198811bf76f74512e24f5a537e21f9o3kyh   \n",
       "9   a3d2de7675556553a5f08e4c88d2c22817wsw   \n",
       "10  a3d2de7675556553a5f08e4c88d2c22817wsw   \n",
       "13  d1154cf7f47d7be0579cf24f6df1edcaagi99   \n",
       "\n",
       "                                  address  outcome  \n",
       "1   42a3b61a1fe69d66ad60f3e347aa09b1erfe2      0.0  \n",
       "5   4e408da3d4dc783220f7d7c6a2f6bb62fxl68      0.0  \n",
       "9   a3d2de7675556553a5f08e4c88d2c228qg5i2      0.0  \n",
       "10  a3d2de7675556553a5f08e4c88d2c228qg5i2      0.0  \n",
       "13  fe7698870c64030109477f0d692741bfb3jn2      0.0  "
      ]
     },
     "execution_count": 4,
     "metadata": {},
     "output_type": "execute_result"
    }
   ],
   "source": [
    "#Merge training data with bids data, because only training data has 'outcome' column, which will be used as labels\n",
    "bidder_train = pd.read_csv('Data/train.csv')\n",
    "train_bid = mergedata(data, bidder_train)\n",
    "train_bid.head()"
   ]
  },
  {
   "cell_type": "markdown",
   "metadata": {
    "deletable": true,
    "editable": true
   },
   "source": [
    "## Proportion of human bidders and robot bidders\n",
    "\n",
    "To see how severe the problem is, looking at the proportion of two types of bidders could be a good choice."
   ]
  },
  {
   "cell_type": "code",
   "execution_count": 5,
   "metadata": {
    "collapsed": false,
    "deletable": true,
    "editable": true
   },
   "outputs": [
    {
     "name": "stdout",
     "output_type": "stream",
     "text": [
      "Robot bidders: 13.428%\n"
     ]
    }
   ],
   "source": [
    "bot_bidder = train_bid[train_bid.outcome == 1]\n",
    "print(\"Robot bidders: {0:.5g}%\".format(len(bot_bidder)*100/len(train_bid)))"
   ]
  },
  {
   "cell_type": "code",
   "execution_count": 6,
   "metadata": {
    "collapsed": false,
    "deletable": true,
    "editable": true
   },
   "outputs": [
    {
     "name": "stdout",
     "output_type": "stream",
     "text": [
      "Human bidders: 86.572%\n"
     ]
    }
   ],
   "source": [
    "human_bidder = train_bid[train_bid.outcome == 0]\n",
    "print(\"Human bidders: {0:.5g}%\".format(len(human_bidder)*100/len(train_bid)))"
   ]
  },
  {
   "cell_type": "markdown",
   "metadata": {
    "deletable": true,
    "editable": true
   },
   "source": [
    "From above proportions, robot bidders would not be a big problem for online auctions.\n",
    "\n",
    "But is that true?\n",
    "\n",
    "Let's think about the same problem in another way:"
   ]
  },
  {
   "cell_type": "code",
   "execution_count": 7,
   "metadata": {
    "collapsed": false,
    "deletable": true,
    "editable": true
   },
   "outputs": [
    {
     "name": "stdout",
     "output_type": "stream",
     "text": [
      "Auctions which robot bidders participated in: 50.157%\n"
     ]
    }
   ],
   "source": [
    "robots = train_bid[train_bid.outcome == 1][['auction']]\n",
    "human = train_bid[train_bid.outcome == 0][['auction']]\n",
    "total = train_bid.auction.nunique()\n",
    "robots_auction = robots.auction.nunique()\n",
    "human_auction = human.auction.nunique()\n",
    "print(\"Auctions which robot bidders participated in: {0:.5g}%\".format(robots_auction*100/total))"
   ]
  },
  {
   "cell_type": "markdown",
   "metadata": {
    "deletable": true,
    "editable": true
   },
   "source": [
    "Now we can see, although low proportion of robot bidders, they do make significant percent of bids which is more than half of the bids! This shows the problem is really severe that the online auction company must solve"
   ]
  },
  {
   "cell_type": "markdown",
   "metadata": {
    "deletable": true,
    "editable": true
   },
   "source": [
    "## Behaviors of human and robot bidders\n",
    "\n",
    "**1. Robot bidders:**"
   ]
  },
  {
   "cell_type": "code",
   "execution_count": 8,
   "metadata": {
    "collapsed": false,
    "deletable": true,
    "editable": true
   },
   "outputs": [
    {
     "ename": "NameError",
     "evalue": "name 'exp_data' is not defined",
     "output_type": "error",
     "traceback": [
      "\u001b[0;31m---------------------------------------------------------------------------\u001b[0m",
      "\u001b[0;31mNameError\u001b[0m                                 Traceback (most recent call last)",
      "\u001b[0;32m<ipython-input-8-4375bc79fe22>\u001b[0m in \u001b[0;36m<module>\u001b[0;34m()\u001b[0m\n\u001b[1;32m      1\u001b[0m \u001b[0;31m#select only robot bidders\u001b[0m\u001b[0;34m\u001b[0m\u001b[0;34m\u001b[0m\u001b[0m\n\u001b[1;32m      2\u001b[0m \u001b[0mbots_data\u001b[0m \u001b[0;34m=\u001b[0m \u001b[0mtrain_bid\u001b[0m\u001b[0;34m[\u001b[0m\u001b[0;34m(\u001b[0m\u001b[0mtrain_bid\u001b[0m\u001b[0;34m.\u001b[0m\u001b[0mmerchandise\u001b[0m \u001b[0;34m==\u001b[0m \u001b[0;34m'mobile'\u001b[0m\u001b[0;34m)\u001b[0m \u001b[0;34m&\u001b[0m \u001b[0;34m(\u001b[0m\u001b[0mtrain_bid\u001b[0m\u001b[0;34m.\u001b[0m\u001b[0moutcome\u001b[0m \u001b[0;34m==\u001b[0m \u001b[0;36m1\u001b[0m\u001b[0;34m)\u001b[0m\u001b[0;34m]\u001b[0m\u001b[0;34m\u001b[0m\u001b[0m\n\u001b[0;32m----> 3\u001b[0;31m \u001b[0meg_bots_bidder\u001b[0m \u001b[0;34m=\u001b[0m \u001b[0mexp_data\u001b[0m\u001b[0;34m[\u001b[0m\u001b[0mexp_data\u001b[0m\u001b[0;34m.\u001b[0m\u001b[0mbidder_id\u001b[0m \u001b[0;34m==\u001b[0m \u001b[0;34m'fae553f133602fba6e9e6051dfb27fefkruax'\u001b[0m\u001b[0;34m]\u001b[0m\u001b[0;34m\u001b[0m\u001b[0m\n\u001b[0m\u001b[1;32m      4\u001b[0m \u001b[0meg_bots_bids\u001b[0m \u001b[0;34m=\u001b[0m \u001b[0meg_bidder\u001b[0m\u001b[0;34m.\u001b[0m\u001b[0mgroupby\u001b[0m\u001b[0;34m(\u001b[0m\u001b[0;34m'auction'\u001b[0m\u001b[0;34m)\u001b[0m\u001b[0;34m.\u001b[0m\u001b[0mcount\u001b[0m\u001b[0;34m(\u001b[0m\u001b[0;34m)\u001b[0m\u001b[0;34m.\u001b[0m\u001b[0msort\u001b[0m\u001b[0;34m(\u001b[0m\u001b[0;34m'bid_id'\u001b[0m\u001b[0;34m)\u001b[0m\u001b[0;34m.\u001b[0m\u001b[0mtail\u001b[0m\u001b[0;34m(\u001b[0m\u001b[0;36m6\u001b[0m\u001b[0;34m)\u001b[0m\u001b[0;34m\u001b[0m\u001b[0m\n",
      "\u001b[0;31mNameError\u001b[0m: name 'exp_data' is not defined"
     ]
    }
   ],
   "source": [
    "#select only robot bidders\n",
    "bots_data = train_bid[(train_bid.merchandise == 'mobile') & (train_bid.outcome == 1)]\n",
    "eg_bots_bidder = exp_data[exp_data.bidder_id == 'fae553f133602fba6e9e6051dfb27fefkruax']\n",
    "eg_bots_bids = eg_bidder.groupby('auction').count().sort('bid_id').tail(6)"
   ]
  },
  {
   "cell_type": "code",
   "execution_count": null,
   "metadata": {
    "collapsed": false,
    "deletable": true,
    "editable": true
   },
   "outputs": [],
   "source": [
    "#plot all bids the bidder has made along with time the bids made\n",
    "scatter_plot(eg_bots_bids, eg_bots_bidder, 1, 6)\n",
    "print(\"\\t\\t\\t\\t\\t\\t  merchandise: mobile\\n\\t\\t\\t\\t    bidder ID: ffc4e2dd2cc08249f299cab46ecbfacfobmr3\")"
   ]
  },
  {
   "cell_type": "markdown",
   "metadata": {
    "deletable": true,
    "editable": true
   },
   "source": [
    "**2. Human bidders:**"
   ]
  },
  {
   "cell_type": "code",
   "execution_count": null,
   "metadata": {
    "collapsed": false,
    "deletable": true,
    "editable": true
   },
   "outputs": [],
   "source": [
    "#select only human bidders\n",
    "human_data = train_bid[(train_bid.merchandise == 'mobile') & (train_bid.outcome == 0)]\n",
    "eg_human_bidder = human_data[human_data.bidder_id == 'ffc4e2dd2cc08249f299cab46ecbfacfobmr3']\n",
    "eg_human_bids = eg_human_bidder.groupby('auction').count().sort('bid_id').tail(6)"
   ]
  },
  {
   "cell_type": "code",
   "execution_count": null,
   "metadata": {
    "collapsed": false,
    "deletable": true,
    "editable": true
   },
   "outputs": [],
   "source": [
    "#plot all bids the bidder has made along with time the bids made\n",
    "scatter_plot(eg_human_bids, eg_human_bidder, 1, 6)\n",
    "print(\"\\t\\t\\t\\t\\t\\t  merchandise: mobile\\n\\t\\t\\t\\t    bidder ID: ffc4e2dd2cc08249f299cab46ecbfacfobmr3\")"
   ]
  },
  {
   "cell_type": "markdown",
   "metadata": {
    "deletable": true,
    "editable": true
   },
   "source": [
    "It is clear that robot bidders usually make series bids in a short period of time. And for this robot bidder, it only make bids in a fixed time interval(which is 9.6--9.8). While for the human bidder, the distribution of bids he made seems more random and cannot find a specific pattern among all the auctions he participated in.\n",
    "\n",
    "Since the above graphs are from only two bidders, it's too early to make any conclusions, but it can still provide some valuable insights before moving on."
   ]
  },
  {
   "cell_type": "markdown",
   "metadata": {
    "deletable": true,
    "editable": true
   },
   "source": [
    "## Which merchandise do robot bidders prefer?"
   ]
  },
  {
   "cell_type": "code",
   "execution_count": null,
   "metadata": {
    "collapsed": false,
    "deletable": true,
    "editable": true
   },
   "outputs": [],
   "source": [
    "conv_bar_plot(train_bid, 'merchandise')"
   ]
  },
  {
   "cell_type": "markdown",
   "metadata": {
    "deletable": true,
    "editable": true
   },
   "source": [
    "### Before we talk about this graph, let's take a look at what the numbers stand for\n",
    "\n",
    "| \tmerchandise  |  cate_numbers |\n",
    "|:--------------:|:-------------:|\n",
    "|furniture       |\t     0       |\n",
    "|mobile          |       1       |\n",
    "|sporting goods  |       2       |\n",
    "|home goods\t     |       3       |\n",
    "|jewelry\t     |       4       |\n",
    "|office equipment|    \t 5       |\n",
    "|computers\t     |       6       |\n",
    "|books and music |       7       |\n",
    "|auto parts \t |       8       |\n",
    "|clothing        |       9       |\n",
    "\n",
    "Robot bidders are more likely to make bids for computers, mobile and furniture. But they are not interested in auto parts and clothing. Although the reason behind could be complicated, the owner of the website do need to pay more attention on computers, mobile and furniture."
   ]
  },
  {
   "cell_type": "markdown",
   "metadata": {
    "deletable": true,
    "editable": true
   },
   "source": [
    "### How many bids does a ROBOT/HUMAN bidder made averagely per auction? "
   ]
  },
  {
   "cell_type": "code",
   "execution_count": null,
   "metadata": {
    "collapsed": false,
    "deletable": true,
    "editable": true
   },
   "outputs": [],
   "source": [
    "bids_per_auction(train_bid, columns1=['bidder_id', 'auction'], columns2=['bidder_id', 'bid_id'])"
   ]
  },
  {
   "cell_type": "markdown",
   "metadata": {
    "deletable": true,
    "editable": true
   },
   "source": [
    "From above plots, more than 90% of robot bidders make 50 or less bids while more than 90% of human bidders make 20 or less bids. \n",
    "\n",
    "One important finding is that number of bids cannot be used to classify whether a bidders is human or robot, because there are also some human bidders make many bids. But one thing noticable is most robot bidders making more bids than most human bidders. This indicates although number of bids cannot be used to classify bidder types directly, it still can be used as a minor feature."
   ]
  },
  {
   "cell_type": "markdown",
   "metadata": {
    "deletable": true,
    "editable": true
   },
   "source": [
    "### Number of human/bots bidders for different countries"
   ]
  },
  {
   "cell_type": "code",
   "execution_count": null,
   "metadata": {
    "collapsed": false,
    "deletable": true,
    "editable": true
   },
   "outputs": [],
   "source": [
    "print('\\tTop 10 countries that has highest percentage of bots bidders')\n",
    "dist_most(train_bid, 'country')"
   ]
  },
  {
   "cell_type": "markdown",
   "metadata": {
    "deletable": true,
    "editable": true
   },
   "source": [
    "This could be the most interesting finding in this project.\n",
    "\n",
    "But before we move on, one thing I want to let you know that I have dropped countries who has less than 500 bid records. \n",
    "These countries will not provide valuable information because of their sample sizes.\n",
    "\n",
    "From above table and plots, most countries do not have too many robot bidders(less than 10%). While other countries have significantly more amount of robot bidders. It is also surprising that U.S., Australia, Canada, Germany, Taiwan, Korea, Japan, Sweden, Austria, Israel has really large percent of robot bidders, expecially Japan and korea(more than 90% robot bidders). Since they are all deveploped regions, people in these countries may be more experienced in programming/softwar developing, which could result in large number of robot bidders. To prove this view, let's look at the third plot -- 10 countries with smallest percentage of robot bidders, are undeveloped and small countries, like Equatorial Guinea, Mauritania, Niger, etc. Therefore, 'country' could be a good estimator for classifying bidders' types."
   ]
  },
  {
   "cell_type": "markdown",
   "metadata": {
    "deletable": true,
    "editable": true
   },
   "source": [
    "### Number of human/bots bidders for different devices"
   ]
  },
  {
   "cell_type": "code",
   "execution_count": null,
   "metadata": {
    "collapsed": false,
    "deletable": true,
    "editable": true
   },
   "outputs": [],
   "source": [
    "print('\\tTop 10 devices that has highest percentage of bots bidders')\n",
    "dist_most(train_bid, 'device')"
   ]
  },
  {
   "cell_type": "markdown",
   "metadata": {
    "collapsed": true,
    "deletable": true,
    "editable": true
   },
   "source": []
  },
  {
   "cell_type": "code",
   "execution_count": null,
   "metadata": {
    "collapsed": true,
    "deletable": true,
    "editable": true
   },
   "outputs": [],
   "source": []
  }
 ],
 "metadata": {
  "anaconda-cloud": {},
  "kernelspec": {
   "display_name": "Python [Root]",
   "language": "python",
   "name": "Python [Root]"
  },
  "language_info": {
   "codemirror_mode": {
    "name": "ipython",
    "version": 3
   },
   "file_extension": ".py",
   "mimetype": "text/x-python",
   "name": "python",
   "nbconvert_exporter": "python",
   "pygments_lexer": "ipython3",
   "version": "3.5.2"
  }
 },
 "nbformat": 4,
 "nbformat_minor": 0
}
