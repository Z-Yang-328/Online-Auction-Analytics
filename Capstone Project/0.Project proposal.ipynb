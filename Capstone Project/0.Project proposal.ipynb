{
 "cells": [
  {
   "cell_type": "markdown",
   "metadata": {},
   "source": [
    "Capstone Project Proposal"
   ]
  },
  {
   "cell_type": "markdown",
   "metadata": {},
   "source": [
    "# Online Auction Analytics _[Kaggle competition](https://www.kaggle.com/c/facebook-recruiting-iv-human-or-bot)_\n",
    "\n",
    "## Is the bid made by Human or by Robot?"
   ]
  },
  {
   "cell_type": "markdown",
   "metadata": {},
   "source": [
    "### 1. What is the problem you want to solve?\n",
    "    Facebook published online auction data to predict whether a auction was made by human or by robot. In order to correctly predict the identity of the bidder, analysis should be done based on bidder’s behaviors."
   ]
  },
  {
   "cell_type": "markdown",
   "metadata": {},
   "source": [
    "### 2. Who is your client and why do they care about this problem? In other words, what will your client DO or DECIDE based on your analysis that they wouldn’t have otherwise?\n",
    "    When people are making auctions on any websites, they expect that all their opponents are human beings rather than robots. Therefore, online auction websites will punish those robot-bidders to make it a fair auction environment, increasing the customers online auction experience."
   ]
  },
  {
   "cell_type": "markdown",
   "metadata": {},
   "source": [
    "### 3. What data are you going to use for this? How will you acquire this data?\n",
    "    The data is provided by Facebook and presented as a Kaggle competition. There are two datasets in the competition. One is a bidder dataset that includes a list of bidder information, including their id, payment account, and address. The other is a bid dataset that includes 7.6 million bids on different auctions. The bids in this dataset are all made by mobile devices.The online auction platform has a fixed increment of dollar amount for each bid, so it doesn't include an amount for each bid. You are welcome to learn the bidding behavior from the time of the bids, the auction, or the device.The data in this competition comes from an online platform, not from Facebook.\n",
    "\n",
    "#### File descriptions\n",
    "* train.csv - the training set from the bidder dataset \n",
    "* test.csv - the test set from the bidder dataset \n",
    "* sampleSubmission.csv - a sample submission file in the correct format \n",
    "* bids.csv - the bid dataset \n",
    "\n",
    "#### For the bidder dataset\n",
    "* bidder_id – Unique identifier of a bidder. \n",
    "* payment_account – Payment account associated with a bidder. These are obfuscated to protect privacy.\n",
    "* address – Mailing address of a bidder. These are obfuscated to protect privacy.\n",
    "* Outcome – Label of a bidder indicating whether or not it is a robot. Value 1.0 indicates a robot, where value 0.0 indicates human.\n",
    "\n",
    "The outcome was half hand labeled, half stats-based. There are two types of \"bots\" with different levels of proof:\n",
    "1. Bidders who are identified as bots/fraudulent with clear proof. Their accounts were banned by the auction site.\n",
    "2. Bidder who may have just started their business/clicks or their stats exceed from system wide average. There are no clear proof that they are bots.\n",
    "\n",
    "\n",
    "#### For the bid dataset\n",
    "\n",
    "* bid_id - unique id for this bid \n",
    "* bidder_id – Unique identifier of a bidder (same as the bidder_id used in train.csv and test.csv) \n",
    "* auction – Unique identifier of an auction \n",
    "* merchandise –  The category of the auction site campaign, which means the bidder might come to this site by way of searching for \"home goods\" but ended up bidding for \"sporting goods\" - and that leads to this field being \"home goods\". This categorical field could be a search term, or online advertisement. \n",
    "* device – Phone model of a visitor \n",
    "* time - Time that the bid is made (transformed to protect privacy). \n",
    "* country - The country that the IP belongs to \n",
    "* ip – IP address of a bidder (obfuscated to protect privacy). \n",
    "* url – url where the bidder was referred from (obfuscated to protect privacy).\n",
    "\n",
    "Source: https://www.kaggle.com/c/facebook-recruiting-iv-human-or-bot/data"
   ]
  },
  {
   "cell_type": "markdown",
   "metadata": {},
   "source": [
    "### 4. In brief, outline your approach to solving this problem (knowing that this might change later).\n",
    "    1) Load the dataset;\n",
    "    2) Data wrangling to make data easier for analysis;\n",
    "    3) Exploratory data analysis and data story telling;\n",
    "    4) Form and test hypothesis;\n",
    "    5) Performing different classification algorithms to make prediction."
   ]
  },
  {
   "cell_type": "markdown",
   "metadata": {},
   "source": [
    "### 5. What are your deliverables? Typically, this would include code, along with a paper and/or a slide deck.\n",
    "    To meet the requirement of Springboard’s Capstone project:\n",
    "    1) Well-documented code on github;\n",
    "    2) Final report paper to explain the problem and my findings;\n",
    "    3) A slide deck to present the results to others (e.g. clients) in an easy to understand, but compelling way."
   ]
  }
 ],
 "metadata": {
  "kernelspec": {
   "display_name": "Python [Root]",
   "language": "python",
   "name": "Python [Root]"
  },
  "language_info": {
   "codemirror_mode": {
    "name": "ipython",
    "version": 3
   },
   "file_extension": ".py",
   "mimetype": "text/x-python",
   "name": "python",
   "nbconvert_exporter": "python",
   "pygments_lexer": "ipython3",
   "version": "3.5.2"
  }
 },
 "nbformat": 4,
 "nbformat_minor": 0
}
