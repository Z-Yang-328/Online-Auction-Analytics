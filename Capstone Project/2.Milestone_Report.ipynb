{
 "cells": [
  {
   "cell_type": "markdown",
   "metadata": {},
   "source": [
    "### Capstone Project Report"
   ]
  },
  {
   "cell_type": "markdown",
   "metadata": {},
   "source": [
    "# Online Auction Analytics _[Kaggle competition](https://www.kaggle.com/c/facebook-recruiting-iv-human-or-bot)_\n",
    "\n",
    "## Is the bid made by Human or by Robot?"
   ]
  },
  {
   "cell_type": "markdown",
   "metadata": {},
   "source": [
    "### 1. What is the problem you want to solve?\n",
    "    Facebook published online auction data to predict whether a auction was made by human or by robot. In order to correctly predict the identity of the bidder, analysis should be done based on bidder’s behaviors."
   ]
  },
  {
   "cell_type": "markdown",
   "metadata": {},
   "source": [
    "### 2. Who is your client and why do they care about this problem? In other words, what will your client DO or DECIDE based on your analysis that they wouldn’t have otherwise?\n",
    "    When people are making auctions on any websites, they expect that all their opponents are human beings rather than robots. Therefore, online auction websites will punish those robot-bidders to make it a fair auction environment, increasing the customers online auction experience."
   ]
  },
  {
   "cell_type": "markdown",
   "metadata": {},
   "source": [
    "### 3. A deep dive into the data set\n",
    "\n",
    "#### File descriptions\n",
    "* train.csv - the training set from the bidder dataset \n",
    "* test.csv - the test set from the bidder dataset \n",
    "* sampleSubmission.csv - a sample submission file in the correct format \n",
    "* bids.csv - the bid dataset \n",
    "\n",
    "#### For the bidder dataset\n",
    "* bidder_id – Unique identifier of a bidder. \n",
    "* payment_account – Payment account associated with a bidder. These are obfuscated to protect privacy.\n",
    "* address – Mailing address of a bidder. These are obfuscated to protect privacy.\n",
    "* Outcome – Label of a bidder indicating whether or not it is a robot. Value 1.0 indicates a robot, where value 0.0 indicates human.\n",
    "\n",
    "The outcome was half hand labeled, half stats-based. There are two types of \"bots\" with different levels of proof:\n",
    "1. Bidders who are identified as bots/fraudulent with clear proof. Their accounts were banned by the auction site.\n",
    "2. Bidder who may have just started their business/clicks or their stats exceed from system wide average. There are no clear proof that they are bots.\n",
    "\n",
    "#### For the bid dataset\n",
    "\n",
    "* bid_id - unique id for this bid \n",
    "* bidder_id – Unique identifier of a bidder (same as the bidder_id used in train.csv and test.csv) \n",
    "* auction – Unique identifier of an auction \n",
    "* merchandise –  The category of the auction site campaign, which means the bidder might come to this site by way of searching for \"home goods\" but ended up bidding for \"sporting goods\" - and that leads to this field being \"home goods\". This categorical field could be a search term, or online advertisement. \n",
    "* device – Phone model of a visitor \n",
    "* time - Time that the bid is made (transformed to protect privacy). \n",
    "* country - The country that the IP belongs to \n",
    "* ip – IP address of a bidder (obfuscated to protect privacy). \n",
    "* url – url where the bidder was referred from (obfuscated to protect privacy)."
   ]
  },
  {
   "cell_type": "markdown",
   "metadata": {},
   "source": [
    "#### What important fields and information does the data set have?\n",
    "    Because of privacy protection, some features of the original data set were obfuscated. Among these obfuscated features, some can still provide valuable information while others can not. For example, for the bidder dataset, the address and payment_account are features from which we are not able to extra any valuable infomation. These kind of features are also included in bid data set: ip and url. There is one special feature, time in bid data set. Although it was also obfuscated (which means we can't know the exact bid time), it still can provide information like time period."
   ]
  },
  {
   "cell_type": "markdown",
   "metadata": {},
   "source": [
    "#### What are the limitations?\n",
    "* As it is mentioned above, although we know there are mis-classified bots bidders, no information about this problem are provided. Therefore, we can't figure out which bidders are mis-classified.\n",
    "* Since some features are obfuscated to protect privacy, exact behavioral difference in bidding between human and robot bidders can't be explored. For example, we can't know at what time robot bidders are more likely to make bids.\n",
    "* Information of bids winners are not available. Since robot bidders could be designed for multiple reasons (like win bids, increase bids price, increase popularity of auctions), more interesting findings would be explored if winners' information are available."
   ]
  },
  {
   "cell_type": "markdown",
   "metadata": {},
   "source": [
    "#### What kind of cleaning and wrangling did you need to do?\n",
    "    Since many features are obfuscated, they are not able to provide valuable information anymore. It is better to drop them off. This kind of features are: 'ip', 'address', 'url', 'payment_account'. Before building predictive models, the 3 data sets are supposed to merged together, which will lead to 2 data sets: one with label (training), one without label (test)."
   ]
  },
  {
   "cell_type": "markdown",
   "metadata": {},
   "source": [
    "### 4. Important findings from data story\n",
    "\n",
    "* Robot bidders are only 5.2% of total bidders. However, they have participated in about 50% auctions, which will definitely decrease the bidding experience of real human bidders.\n",
    "\n",
    "|Robot bidder proportion    |Auctions robot bidders participated in|\n",
    "|:-------------------------:|:------------------------------------:|\n",
    "|![](pictures/2.png)        | ![](pictures/3.png)                  |\n",
    "\n",
    "* 3 merchandises robots would like to bid: sporting goods, mobile, and jewelry;\n",
    "  3 merchandises robots would not like to bid: auto parts, clothing, and furniture.\n",
    "  ![](pictures/1.png)\n",
    "* Robot bidders make more bids in average per auction than human bidders. However, how significant the differences are is not the same among all merchandises. For example, for sporting goods, the difference in mean of number of bids between human and robot bidders are significant, which means it can be used to classify if the bidder is a robot bidder.\n",
    "\n",
    "|mobile                  |sporting goods         |jewelry                |\n",
    "|:----------------------:|:---------------------:|:---------------------:|\n",
    "|![](pictures/4.png)     |![](pictures/5.png)    |![](pictures/6.png)    |\n",
    "* Different countries will have very different proportion of robot bidders (highest about 99% while lowest about 0.07%).\n",
    "  However, most developed countries/regions have more percent of robot bidders. For example, Macau and Japan both have     more than 95% robot bidders.\n",
    "  \n",
    "  ![](pictures/7.png)  \n",
    "* Although the exact model of devices are not available in this data set, some models are more likely to be used to run robot-bidding program. Therefore, devices could be a very important feature for predicting if the bidder is a robot bidder.\n",
    "\n",
    "\n",
    "![](pictures/8.png)  "
   ]
  },
  {
   "cell_type": "markdown",
   "metadata": {},
   "source": [
    "### 5. Based on these findings, what approach are you going to take? How has your approach changed from what you initially proposed, if applicable?\n",
    "* Since most features are not able to be used to build classification models directly, creating and transforming features are needed for getting appropriate predictors. For example, country code and device code should be converted to numeric data(i.e. 0 for us, 1 for japan, etc.). New features like \"average number of bids of a bidder\", \"average number of bids per auction per bidder\" will be created.\n",
    "* Before building models, clustering could be applied to find patterns among all the bids. \n",
    "* Predictive models like SVM, kNN, Decision Tree, Random Forest, Logistic Regression are preffered in this project. "
   ]
  }
 ],
 "metadata": {
  "anaconda-cloud": {},
  "kernelspec": {
   "display_name": "Python [Root]",
   "language": "python",
   "name": "Python [Root]"
  },
  "language_info": {
   "codemirror_mode": {
    "name": "ipython",
    "version": 3
   },
   "file_extension": ".py",
   "mimetype": "text/x-python",
   "name": "python",
   "nbconvert_exporter": "python",
   "pygments_lexer": "ipython3",
   "version": "3.5.2"
  }
 },
 "nbformat": 4,
 "nbformat_minor": 0
}
