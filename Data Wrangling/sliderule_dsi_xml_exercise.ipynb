{
 "cells": [
  {
   "cell_type": "markdown",
   "metadata": {
    "deletable": true,
    "editable": true
   },
   "source": [
    "# XML example and exercise\n",
    "****\n",
    "+ study examples of accessing nodes in XML tree structure  \n",
    "+ work on exercise to be completed and submitted\n",
    "****\n",
    "+ reference: https://docs.python.org/2.7/library/xml.etree.elementtree.html\n",
    "+ data source: http://www.dbis.informatik.uni-goettingen.de/Mondial\n",
    "****"
   ]
  },
  {
   "cell_type": "code",
   "execution_count": 8,
   "metadata": {
    "collapsed": true,
    "deletable": true,
    "editable": true
   },
   "outputs": [],
   "source": [
    "import pandas as pd\n",
    "from xml.etree import ElementTree as ET"
   ]
  },
  {
   "cell_type": "markdown",
   "metadata": {
    "deletable": true,
    "editable": true
   },
   "source": [
    "## XML example\n",
    "\n",
    "+ for details about tree traversal and iterators, see https://docs.python.org/2.7/library/xml.etree.elementtree.html"
   ]
  },
  {
   "cell_type": "code",
   "execution_count": 2,
   "metadata": {
    "collapsed": true,
    "deletable": true,
    "editable": true
   },
   "outputs": [],
   "source": [
    "document_tree = ET.parse( './data/mondial_database_less.xml' )"
   ]
  },
  {
   "cell_type": "code",
   "execution_count": 3,
   "metadata": {
    "collapsed": false,
    "deletable": true,
    "editable": true
   },
   "outputs": [
    {
     "name": "stdout",
     "output_type": "stream",
     "text": [
      "Albania\n",
      "Greece\n",
      "Macedonia\n",
      "Serbia\n",
      "Montenegro\n",
      "Kosovo\n",
      "Andorra\n"
     ]
    }
   ],
   "source": [
    "# print names of all countries\n",
    "for child in document_tree.getroot():\n",
    "    print (child.find('name').text)"
   ]
  },
  {
   "cell_type": "code",
   "execution_count": 4,
   "metadata": {
    "collapsed": false,
    "deletable": true,
    "editable": true
   },
   "outputs": [
    {
     "name": "stdout",
     "output_type": "stream",
     "text": [
      "* Albania:Tirana, Shkodër, Durrës, Vlorë, Elbasan, Korçë\n",
      "* Greece:Komotini, Kavala, Athina, Peiraias, Peristeri, Acharnes, Patra, Kozani, Kerkyra, Ioannina, Thessaloniki, Iraklio, Chania, Ermoupoli, Rhodes, Tripoli, Lamia, Chalkida, Larissa, Volos, Mytilini, Karyes\n",
      "* Macedonia:Skopje, Kumanovo\n",
      "* Serbia:Beograd, Novi Sad, Niš\n",
      "* Montenegro:Podgorica\n",
      "* Kosovo:Prishtine\n",
      "* Andorra:Andorra la Vella\n"
     ]
    }
   ],
   "source": [
    "# print names of all countries and their cities\n",
    "for element in document_tree.iterfind('country'):\n",
    "    #print ('* ' + element.find('name').text + ':',)\n",
    "    capitals_string = ''\n",
    "    for subelement in element.getiterator('city'):\n",
    "        capitals_string += subelement.find('name').text + ', '\n",
    "    print ('* ' + element.find('name').text + ':' + capitals_string[:-2])"
   ]
  },
  {
   "cell_type": "markdown",
   "metadata": {
    "deletable": true,
    "editable": true
   },
   "source": [
    "****\n",
    "## XML exercise\n",
    "\n",
    "Using data in 'data/mondial_database.xml', the examples above, and refering to https://docs.python.org/2.7/library/xml.etree.elementtree.html, find\n",
    "\n",
    "1. 10 countries with the lowest infant mortality rates\n",
    "2. 10 cities with the largest population\n",
    "3. 10 ethnic groups with the largest overall populations (sum of best/latest estimates over all countries)\n",
    "4. name and country of a) longest river, b) largest lake and c) airport at highest elevation"
   ]
  },
  {
   "cell_type": "code",
   "execution_count": 4,
   "metadata": {
    "collapsed": false,
    "deletable": true,
    "editable": true
   },
   "outputs": [],
   "source": [
    "#load dataset\n",
    "document = ET.parse( './data/mondial_database.xml' )"
   ]
  },
  {
   "cell_type": "markdown",
   "metadata": {
    "deletable": true,
    "editable": true
   },
   "source": [
    "# Question 1: 10 countries with the lowest infant mortality rates"
   ]
  },
  {
   "cell_type": "code",
   "execution_count": 10,
   "metadata": {
    "collapsed": false,
    "deletable": true,
    "editable": true
   },
   "outputs": [],
   "source": [
    "country_names = []\n",
    "infant_mortality = []\n",
    "for element in document.iterfind('country'):\n",
    "    #Ignore observations without infant_mortality data\n",
    "    if element.find('infant_mortality') == None:\n",
    "        continue\n",
    "    #Append contry name to contry_names\n",
    "    country_names.append(element.find('name').text)\n",
    "    #Append infant_mortality to list infant_mortality\n",
    "    infant_mortality.append(element.find('infant_mortality').text)\n",
    "\n",
    "#Create a dictionary with country_names as keys and infant_mortality as values\n",
    "data_q1 = dict(zip(country_names, infant_mortality))"
   ]
  },
  {
   "cell_type": "code",
   "execution_count": 12,
   "metadata": {
    "collapsed": false,
    "deletable": true,
    "editable": true
   },
   "outputs": [
    {
     "data": {
      "text/html": [
       "<div>\n",
       "<table border=\"1\" class=\"dataframe\">\n",
       "  <thead>\n",
       "    <tr style=\"text-align: right;\">\n",
       "      <th></th>\n",
       "      <th>Country</th>\n",
       "      <th>Infant Mortality</th>\n",
       "    </tr>\n",
       "  </thead>\n",
       "  <tbody>\n",
       "    <tr>\n",
       "      <th>0</th>\n",
       "      <td>Monaco</td>\n",
       "      <td>1.81</td>\n",
       "    </tr>\n",
       "    <tr>\n",
       "      <th>1</th>\n",
       "      <td>Japan</td>\n",
       "      <td>2.13</td>\n",
       "    </tr>\n",
       "    <tr>\n",
       "      <th>2</th>\n",
       "      <td>Bermuda</td>\n",
       "      <td>2.48</td>\n",
       "    </tr>\n",
       "    <tr>\n",
       "      <th>3</th>\n",
       "      <td>Norway</td>\n",
       "      <td>2.48</td>\n",
       "    </tr>\n",
       "    <tr>\n",
       "      <th>4</th>\n",
       "      <td>Singapore</td>\n",
       "      <td>2.53</td>\n",
       "    </tr>\n",
       "    <tr>\n",
       "      <th>5</th>\n",
       "      <td>Sweden</td>\n",
       "      <td>2.6</td>\n",
       "    </tr>\n",
       "    <tr>\n",
       "      <th>6</th>\n",
       "      <td>Czech Republic</td>\n",
       "      <td>2.63</td>\n",
       "    </tr>\n",
       "    <tr>\n",
       "      <th>7</th>\n",
       "      <td>Hong Kong</td>\n",
       "      <td>2.73</td>\n",
       "    </tr>\n",
       "    <tr>\n",
       "      <th>8</th>\n",
       "      <td>Macao</td>\n",
       "      <td>3.13</td>\n",
       "    </tr>\n",
       "    <tr>\n",
       "      <th>9</th>\n",
       "      <td>Iceland</td>\n",
       "      <td>3.15</td>\n",
       "    </tr>\n",
       "  </tbody>\n",
       "</table>\n",
       "</div>"
      ],
      "text/plain": [
       "          Country Infant Mortality\n",
       "0          Monaco             1.81\n",
       "1           Japan             2.13\n",
       "2         Bermuda             2.48\n",
       "3          Norway             2.48\n",
       "4       Singapore             2.53\n",
       "5          Sweden              2.6\n",
       "6  Czech Republic             2.63\n",
       "7       Hong Kong             2.73\n",
       "8           Macao             3.13\n",
       "9         Iceland             3.15"
      ]
     },
     "execution_count": 12,
     "metadata": {},
     "output_type": "execute_result"
    }
   ],
   "source": [
    "#Convert values of dictionary(data_q1) to float and sort the result\n",
    "data_q1_ans = sorted(data_q1.items(), key=lambda x:float(x[1]))\n",
    "#Convert dict to dataframe\n",
    "df = pd.DataFrame(data_q1_ans)\n",
    "#Change column names\n",
    "df.columns = (['Country', 'Infant Mortality'])\n",
    "df.head(10)"
   ]
  },
  {
   "cell_type": "markdown",
   "metadata": {
    "deletable": true,
    "editable": true
   },
   "source": [
    "# Question 2: 10 cities with the largest population"
   ]
  },
  {
   "cell_type": "code",
   "execution_count": 13,
   "metadata": {
    "collapsed": false,
    "deletable": true,
    "editable": true
   },
   "outputs": [],
   "source": [
    "result = []\n",
    "for element in document.iterfind('country'):\n",
    "    country = element.find('name').text\n",
    "    for subelement in element.getiterator('city'):\n",
    "        #Concatenate city name with country name to show them together\n",
    "        city = subelement.find('name').text + ', ' + country\n",
    "        #This inner for loop is aimed to use the latest population data and its year as our data\n",
    "        for population in subelement.getiterator('population'):\n",
    "            city_pop = '{:15,.0f}'.format(int(population.text))\n",
    "            year = population.attrib['year']\n",
    "        #Create a dictionary contains the data we created\n",
    "        result.append({'cities': city, 'population': city_pop, 'year': year})\n",
    "\n",
    "#Change list to dataframe\n",
    "result = pd.DataFrame(result)"
   ]
  },
  {
   "cell_type": "code",
   "execution_count": 14,
   "metadata": {
    "collapsed": false,
    "deletable": true,
    "editable": true
   },
   "outputs": [
    {
     "name": "stderr",
     "output_type": "stream",
     "text": [
      "/home/yangzhibo5947/anaconda3/lib/python3.5/site-packages/ipykernel/__main__.py:2: FutureWarning: sort(columns=....) is deprecated, use sort_values(by=.....)\n",
      "  from ipykernel import kernelapp as app\n"
     ]
    },
    {
     "data": {
      "text/html": [
       "<div>\n",
       "<table border=\"1\" class=\"dataframe\">\n",
       "  <thead>\n",
       "    <tr style=\"text-align: right;\">\n",
       "      <th></th>\n",
       "      <th>cities</th>\n",
       "      <th>population</th>\n",
       "      <th>year</th>\n",
       "    </tr>\n",
       "  </thead>\n",
       "  <tbody>\n",
       "    <tr>\n",
       "      <th>0</th>\n",
       "      <td>Shanghai, China</td>\n",
       "      <td>22,315,474</td>\n",
       "      <td>2010</td>\n",
       "    </tr>\n",
       "    <tr>\n",
       "      <th>1</th>\n",
       "      <td>Istanbul, Turkey</td>\n",
       "      <td>13,710,512</td>\n",
       "      <td>2012</td>\n",
       "    </tr>\n",
       "    <tr>\n",
       "      <th>2</th>\n",
       "      <td>Mumbai, India</td>\n",
       "      <td>12,442,373</td>\n",
       "      <td>2011</td>\n",
       "    </tr>\n",
       "    <tr>\n",
       "      <th>3</th>\n",
       "      <td>Moskva, Russia</td>\n",
       "      <td>11,979,529</td>\n",
       "      <td>2013</td>\n",
       "    </tr>\n",
       "    <tr>\n",
       "      <th>4</th>\n",
       "      <td>Beijing, China</td>\n",
       "      <td>11,716,620</td>\n",
       "      <td>2010</td>\n",
       "    </tr>\n",
       "    <tr>\n",
       "      <th>5</th>\n",
       "      <td>São Paulo, Brazil</td>\n",
       "      <td>11,152,344</td>\n",
       "      <td>2010</td>\n",
       "    </tr>\n",
       "    <tr>\n",
       "      <th>6</th>\n",
       "      <td>Tianjin, China</td>\n",
       "      <td>11,090,314</td>\n",
       "      <td>2010</td>\n",
       "    </tr>\n",
       "    <tr>\n",
       "      <th>7</th>\n",
       "      <td>Guangzhou, China</td>\n",
       "      <td>11,071,424</td>\n",
       "      <td>2010</td>\n",
       "    </tr>\n",
       "    <tr>\n",
       "      <th>8</th>\n",
       "      <td>Delhi, India</td>\n",
       "      <td>11,034,555</td>\n",
       "      <td>2011</td>\n",
       "    </tr>\n",
       "    <tr>\n",
       "      <th>9</th>\n",
       "      <td>Shenzhen, China</td>\n",
       "      <td>10,358,381</td>\n",
       "      <td>2010</td>\n",
       "    </tr>\n",
       "  </tbody>\n",
       "</table>\n",
       "</div>"
      ],
      "text/plain": [
       "              cities       population  year\n",
       "0    Shanghai, China       22,315,474  2010\n",
       "1   Istanbul, Turkey       13,710,512  2012\n",
       "2      Mumbai, India       12,442,373  2011\n",
       "3     Moskva, Russia       11,979,529  2013\n",
       "4     Beijing, China       11,716,620  2010\n",
       "5  São Paulo, Brazil       11,152,344  2010\n",
       "6     Tianjin, China       11,090,314  2010\n",
       "7   Guangzhou, China       11,071,424  2010\n",
       "8       Delhi, India       11,034,555  2011\n",
       "9    Shenzhen, China       10,358,381  2010"
      ]
     },
     "execution_count": 14,
     "metadata": {},
     "output_type": "execute_result"
    }
   ],
   "source": [
    "#Sort by 'population' from highest to lowest and make it look better\n",
    "result = result.sort('population', ascending = False).reset_index().drop(['index'], axis = 1)\n",
    "result.head(10)"
   ]
  },
  {
   "cell_type": "markdown",
   "metadata": {
    "deletable": true,
    "editable": true
   },
   "source": [
    "# Question 3: 10 ethnic groups with the largest overall populations (sum of best/latest estimates over all countries)"
   ]
  },
  {
   "cell_type": "code",
   "execution_count": 19,
   "metadata": {
    "collapsed": false,
    "deletable": true,
    "editable": true
   },
   "outputs": [
    {
     "name": "stderr",
     "output_type": "stream",
     "text": [
      "/home/yangzhibo5947/anaconda3/lib/python3.5/site-packages/ipykernel/__main__.py:22: FutureWarning: sort(columns=....) is deprecated, use sort_values(by=.....)\n"
     ]
    }
   ],
   "source": [
    "result_q3 = []\n",
    "for country in document.findall('country'):\n",
    "    for node in list(country):\n",
    "        if node.tag == 'name':\n",
    "            country = node.text\n",
    "        #This make sure that we are using the latest data in the data set\n",
    "        elif node.tag == 'population':\n",
    "            pop = int(node.text)\n",
    "            yearr = int(node.attrib['year'])\n",
    "        elif node.tag == 'ethnicgroup':\n",
    "            ethnic = node.text\n",
    "            percentage = float(node.attrib['percentage'])\n",
    "            #Multiply population with percentage of ethnicgroups\n",
    "            #This will result in the population of certain ethnicgroups\n",
    "            eth_pop = int(pop * percentage / 100.)\n",
    "            \n",
    "            #Store the result dict to a list result_q3\n",
    "            result_q3.append({'countries':country, 'country_pop':pop, 'year':year,\n",
    "                        'ethnicity':ethnic, 'country_percentage':percentage, 'population':eth_pop})\n",
    "\n",
    "#Change list to dataframe\n",
    "result_q3 = pd.DataFrame(result_q3)"
   ]
  },
  {
   "cell_type": "code",
   "execution_count": 22,
   "metadata": {
    "collapsed": false,
    "deletable": true,
    "editable": true
   },
   "outputs": [
    {
     "name": "stderr",
     "output_type": "stream",
     "text": [
      "/home/yangzhibo5947/anaconda3/lib/python3.5/site-packages/ipykernel/__main__.py:1: FutureWarning: sort(columns=....) is deprecated, use sort_values(by=.....)\n",
      "  if __name__ == '__main__':\n"
     ]
    },
    {
     "data": {
      "text/html": [
       "<div>\n",
       "<table border=\"1\" class=\"dataframe\">\n",
       "  <thead>\n",
       "    <tr style=\"text-align: right;\">\n",
       "      <th></th>\n",
       "      <th>countries</th>\n",
       "      <th>country_percentage</th>\n",
       "      <th>country_pop</th>\n",
       "      <th>ethnicity</th>\n",
       "      <th>population</th>\n",
       "      <th>year</th>\n",
       "    </tr>\n",
       "  </thead>\n",
       "  <tbody>\n",
       "    <tr>\n",
       "      <th>176</th>\n",
       "      <td>China</td>\n",
       "      <td>91.50</td>\n",
       "      <td>1360720000</td>\n",
       "      <td>Han Chinese</td>\n",
       "      <td>1245058800</td>\n",
       "      <td>2002</td>\n",
       "    </tr>\n",
       "    <tr>\n",
       "      <th>221</th>\n",
       "      <td>India</td>\n",
       "      <td>72.00</td>\n",
       "      <td>1210854977</td>\n",
       "      <td>Indo-Aryan</td>\n",
       "      <td>871815583</td>\n",
       "      <td>2002</td>\n",
       "    </tr>\n",
       "    <tr>\n",
       "      <th>220</th>\n",
       "      <td>India</td>\n",
       "      <td>25.00</td>\n",
       "      <td>1210854977</td>\n",
       "      <td>Dravidian</td>\n",
       "      <td>302713744</td>\n",
       "      <td>2002</td>\n",
       "    </tr>\n",
       "    <tr>\n",
       "      <th>345</th>\n",
       "      <td>United States</td>\n",
       "      <td>79.96</td>\n",
       "      <td>318857056</td>\n",
       "      <td>European</td>\n",
       "      <td>254958101</td>\n",
       "      <td>2002</td>\n",
       "    </tr>\n",
       "    <tr>\n",
       "      <th>520</th>\n",
       "      <td>Nigeria</td>\n",
       "      <td>99.00</td>\n",
       "      <td>164294516</td>\n",
       "      <td>African</td>\n",
       "      <td>162651570</td>\n",
       "      <td>2002</td>\n",
       "    </tr>\n",
       "    <tr>\n",
       "      <th>212</th>\n",
       "      <td>Bangladesh</td>\n",
       "      <td>98.00</td>\n",
       "      <td>149772364</td>\n",
       "      <td>Bengali</td>\n",
       "      <td>146776916</td>\n",
       "      <td>2002</td>\n",
       "    </tr>\n",
       "    <tr>\n",
       "      <th>299</th>\n",
       "      <td>Japan</td>\n",
       "      <td>99.40</td>\n",
       "      <td>127298000</td>\n",
       "      <td>Japanese</td>\n",
       "      <td>126534212</td>\n",
       "      <td>2002</td>\n",
       "    </tr>\n",
       "    <tr>\n",
       "      <th>93</th>\n",
       "      <td>Russia</td>\n",
       "      <td>79.80</td>\n",
       "      <td>143666931</td>\n",
       "      <td>Russian</td>\n",
       "      <td>114646210</td>\n",
       "      <td>2002</td>\n",
       "    </tr>\n",
       "    <tr>\n",
       "      <th>278</th>\n",
       "      <td>Indonesia</td>\n",
       "      <td>45.00</td>\n",
       "      <td>252124458</td>\n",
       "      <td>Javanese</td>\n",
       "      <td>113456006</td>\n",
       "      <td>2002</td>\n",
       "    </tr>\n",
       "    <tr>\n",
       "      <th>461</th>\n",
       "      <td>Brazil</td>\n",
       "      <td>53.70</td>\n",
       "      <td>202768562</td>\n",
       "      <td>European</td>\n",
       "      <td>108886717</td>\n",
       "      <td>2002</td>\n",
       "    </tr>\n",
       "  </tbody>\n",
       "</table>\n",
       "</div>"
      ],
      "text/plain": [
       "         countries  country_percentage  country_pop    ethnicity  population  \\\n",
       "176          China               91.50   1360720000  Han Chinese  1245058800   \n",
       "221          India               72.00   1210854977   Indo-Aryan   871815583   \n",
       "220          India               25.00   1210854977    Dravidian   302713744   \n",
       "345  United States               79.96    318857056     European   254958101   \n",
       "520        Nigeria               99.00    164294516      African   162651570   \n",
       "212     Bangladesh               98.00    149772364      Bengali   146776916   \n",
       "299          Japan               99.40    127298000     Japanese   126534212   \n",
       "93          Russia               79.80    143666931      Russian   114646210   \n",
       "278      Indonesia               45.00    252124458     Javanese   113456006   \n",
       "461         Brazil               53.70    202768562     European   108886717   \n",
       "\n",
       "     year  \n",
       "176  2002  \n",
       "221  2002  \n",
       "220  2002  \n",
       "345  2002  \n",
       "520  2002  \n",
       "212  2002  \n",
       "299  2002  \n",
       "93   2002  \n",
       "278  2002  \n",
       "461  2002  "
      ]
     },
     "execution_count": 22,
     "metadata": {},
     "output_type": "execute_result"
    }
   ],
   "source": [
    "result_q3 = result_q3.sort('population', ascending = False)\n",
    "result_q3.head(10)"
   ]
  },
  {
   "cell_type": "markdown",
   "metadata": {
    "deletable": true,
    "editable": true
   },
   "source": [
    "# Question 4. name and country of \n",
    "# a) longest river ,\n",
    "# b) largest lake and,\n",
    "# c) airport at highest elevation"
   ]
  },
  {
   "cell_type": "markdown",
   "metadata": {},
   "source": [
    "# 1. Longest River"
   ]
  },
  {
   "cell_type": "code",
   "execution_count": 24,
   "metadata": {
    "collapsed": false,
    "deletable": true,
    "editable": true
   },
   "outputs": [
    {
     "data": {
      "text/plain": [
       "dict_keys(['source', 'area', 'through', 'name', 'located', 'length', 'to', 'estuary'])"
      ]
     },
     "execution_count": 24,
     "metadata": {},
     "output_type": "execute_result"
    }
   ],
   "source": [
    "#Check the nodes' tag in our data set\n",
    "tag_list = []\n",
    "for element in document.findall('river'):\n",
    "    for node in list(element):\n",
    "        tag_list.append(node.tag)\n",
    "{node : 1 for node in tag_list}.keys()"
   ]
  },
  {
   "cell_type": "code",
   "execution_count": 32,
   "metadata": {
    "collapsed": true,
    "deletable": true,
    "editable": true
   },
   "outputs": [],
   "source": [
    "river_data = []\n",
    "for element in document.findall('river'):\n",
    "    country = element.attrib['country'].split(' ')[0]\n",
    "    for node in list(element):\n",
    "        if node.tag == 'name':\n",
    "            river = node.text\n",
    "        elif node.tag == 'length':\n",
    "            length = float(node.text)\n",
    "            river_data.append({'river': river, 'length': length, 'country code': country})\n",
    "\n",
    "river_country = pd.DataFrame(river_data)"
   ]
  },
  {
   "cell_type": "code",
   "execution_count": 33,
   "metadata": {
    "collapsed": true,
    "deletable": true,
    "editable": true
   },
   "outputs": [],
   "source": [
    "country_code = []\n",
    "for element in document.findall('country'):\n",
    "    #car_code = element.attrib['car_code']\n",
    "    for node in list(element):\n",
    "        if node.tag == 'name':\n",
    "            car_code = element.attrib['car_code']\n",
    "            country = node.text\n",
    "            country_code.append({'car code': car_code, 'country': country})\n",
    "            \n",
    "country_code = pd.DataFrame(country_code)"
   ]
  },
  {
   "cell_type": "code",
   "execution_count": 34,
   "metadata": {
    "collapsed": false,
    "deletable": true,
    "editable": true
   },
   "outputs": [
    {
     "name": "stderr",
     "output_type": "stream",
     "text": [
      "/home/yangzhibo5947/anaconda3/lib/python3.5/site-packages/ipykernel/__main__.py:1: FutureWarning: sort(columns=....) is deprecated, use sort_values(by=.....)\n",
      "  if __name__ == '__main__':\n"
     ]
    },
    {
     "data": {
      "text/html": [
       "<div>\n",
       "<table border=\"1\" class=\"dataframe\">\n",
       "  <thead>\n",
       "    <tr style=\"text-align: right;\">\n",
       "      <th></th>\n",
       "      <th>country code</th>\n",
       "      <th>length</th>\n",
       "      <th>river</th>\n",
       "      <th>car code</th>\n",
       "      <th>country</th>\n",
       "    </tr>\n",
       "  </thead>\n",
       "  <tbody>\n",
       "    <tr>\n",
       "      <th>174</th>\n",
       "      <td>CO</td>\n",
       "      <td>6448.0</td>\n",
       "      <td>Amazonas</td>\n",
       "      <td>CO</td>\n",
       "      <td>Colombia</td>\n",
       "    </tr>\n",
       "    <tr>\n",
       "      <th>137</th>\n",
       "      <td>CN</td>\n",
       "      <td>6380.0</td>\n",
       "      <td>Jangtse</td>\n",
       "      <td>CN</td>\n",
       "      <td>China</td>\n",
       "    </tr>\n",
       "    <tr>\n",
       "      <th>136</th>\n",
       "      <td>CN</td>\n",
       "      <td>4845.0</td>\n",
       "      <td>Hwangho</td>\n",
       "      <td>CN</td>\n",
       "      <td>China</td>\n",
       "    </tr>\n",
       "    <tr>\n",
       "      <th>123</th>\n",
       "      <td>R</td>\n",
       "      <td>4400.0</td>\n",
       "      <td>Lena</td>\n",
       "      <td>R</td>\n",
       "      <td>Russia</td>\n",
       "    </tr>\n",
       "    <tr>\n",
       "      <th>201</th>\n",
       "      <td>RCB</td>\n",
       "      <td>4374.0</td>\n",
       "      <td>Zaire</td>\n",
       "      <td>RCB</td>\n",
       "      <td>Congo</td>\n",
       "    </tr>\n",
       "    <tr>\n",
       "      <th>138</th>\n",
       "      <td>CN</td>\n",
       "      <td>4350.0</td>\n",
       "      <td>Mekong</td>\n",
       "      <td>CN</td>\n",
       "      <td>China</td>\n",
       "    </tr>\n",
       "    <tr>\n",
       "      <th>115</th>\n",
       "      <td>R</td>\n",
       "      <td>4248.0</td>\n",
       "      <td>Irtysch</td>\n",
       "      <td>R</td>\n",
       "      <td>Russia</td>\n",
       "    </tr>\n",
       "    <tr>\n",
       "      <th>186</th>\n",
       "      <td>RMM</td>\n",
       "      <td>4184.0</td>\n",
       "      <td>Niger</td>\n",
       "      <td>RMM</td>\n",
       "      <td>Mali</td>\n",
       "    </tr>\n",
       "    <tr>\n",
       "      <th>160</th>\n",
       "      <td>USA</td>\n",
       "      <td>4130.0</td>\n",
       "      <td>Missouri</td>\n",
       "      <td>USA</td>\n",
       "      <td>United States</td>\n",
       "    </tr>\n",
       "    <tr>\n",
       "      <th>119</th>\n",
       "      <td>R</td>\n",
       "      <td>4092.0</td>\n",
       "      <td>Jenissej</td>\n",
       "      <td>R</td>\n",
       "      <td>Russia</td>\n",
       "    </tr>\n",
       "  </tbody>\n",
       "</table>\n",
       "</div>"
      ],
      "text/plain": [
       "    country code  length     river car code        country\n",
       "174           CO  6448.0  Amazonas       CO       Colombia\n",
       "137           CN  6380.0   Jangtse       CN          China\n",
       "136           CN  4845.0   Hwangho       CN          China\n",
       "123            R  4400.0      Lena        R         Russia\n",
       "201          RCB  4374.0     Zaire      RCB          Congo\n",
       "138           CN  4350.0    Mekong       CN          China\n",
       "115            R  4248.0   Irtysch        R         Russia\n",
       "186          RMM  4184.0     Niger      RMM           Mali\n",
       "160          USA  4130.0  Missouri      USA  United States\n",
       "119            R  4092.0  Jenissej        R         Russia"
      ]
     },
     "execution_count": 34,
     "metadata": {},
     "output_type": "execute_result"
    }
   ],
   "source": [
    "pd.merge(river_country, country_code, left_on = 'country code', right_on ='car code', how = 'left')\\\n",
    "  .sort('length', ascending = False).head(10)"
   ]
  },
  {
   "cell_type": "markdown",
   "metadata": {},
   "source": [
    "# 2. Largest Lake"
   ]
  },
  {
   "cell_type": "code",
   "execution_count": 28,
   "metadata": {
    "collapsed": false,
    "deletable": true,
    "editable": true
   },
   "outputs": [],
   "source": [
    "lake_data = []\n",
    "for element in document.findall('lake'):\n",
    "    country = element.attrib['country'].split(' ')[0]\n",
    "    for node in list(element):\n",
    "        if node.tag == 'name':\n",
    "            lake = node.text\n",
    "        elif node.tag == 'area':\n",
    "            area = float(node.text)\n",
    "            \n",
    "            lake_data.append({'country': country, 'lake': lake, 'area': area})\n",
    "    \n",
    "lake_df = pd.DataFrame(lake_data)"
   ]
  },
  {
   "cell_type": "code",
   "execution_count": 29,
   "metadata": {
    "collapsed": false,
    "deletable": true,
    "editable": true
   },
   "outputs": [
    {
     "name": "stderr",
     "output_type": "stream",
     "text": [
      "/home/yangzhibo5947/anaconda3/lib/python3.5/site-packages/ipykernel/__main__.py:1: FutureWarning: sort(columns=....) is deprecated, use sort_values(by=.....)\n",
      "  if __name__ == '__main__':\n"
     ]
    },
    {
     "data": {
      "text/html": [
       "<div>\n",
       "<table border=\"1\" class=\"dataframe\">\n",
       "  <thead>\n",
       "    <tr style=\"text-align: right;\">\n",
       "      <th></th>\n",
       "      <th>area</th>\n",
       "      <th>country_x</th>\n",
       "      <th>lake</th>\n",
       "      <th>car code</th>\n",
       "      <th>country_y</th>\n",
       "    </tr>\n",
       "  </thead>\n",
       "  <tbody>\n",
       "    <tr>\n",
       "      <th>54</th>\n",
       "      <td>386400.0</td>\n",
       "      <td>R</td>\n",
       "      <td>Caspian Sea</td>\n",
       "      <td>R</td>\n",
       "      <td>Russia</td>\n",
       "    </tr>\n",
       "    <tr>\n",
       "      <th>107</th>\n",
       "      <td>82103.0</td>\n",
       "      <td>CDN</td>\n",
       "      <td>Lake Superior</td>\n",
       "      <td>CDN</td>\n",
       "      <td>Canada</td>\n",
       "    </tr>\n",
       "    <tr>\n",
       "      <th>79</th>\n",
       "      <td>68870.0</td>\n",
       "      <td>EAT</td>\n",
       "      <td>Lake Victoria</td>\n",
       "      <td>EAT</td>\n",
       "      <td>Tanzania</td>\n",
       "    </tr>\n",
       "    <tr>\n",
       "      <th>104</th>\n",
       "      <td>59600.0</td>\n",
       "      <td>CDN</td>\n",
       "      <td>Lake Huron</td>\n",
       "      <td>CDN</td>\n",
       "      <td>Canada</td>\n",
       "    </tr>\n",
       "    <tr>\n",
       "      <th>106</th>\n",
       "      <td>57800.0</td>\n",
       "      <td>USA</td>\n",
       "      <td>Lake Michigan</td>\n",
       "      <td>USA</td>\n",
       "      <td>United States</td>\n",
       "    </tr>\n",
       "    <tr>\n",
       "      <th>47</th>\n",
       "      <td>41650.0</td>\n",
       "      <td>IL</td>\n",
       "      <td>Dead Sea</td>\n",
       "      <td>IL</td>\n",
       "      <td>Israel</td>\n",
       "    </tr>\n",
       "    <tr>\n",
       "      <th>81</th>\n",
       "      <td>32893.0</td>\n",
       "      <td>ZRE</td>\n",
       "      <td>Lake Tanganjika</td>\n",
       "      <td>ZRE</td>\n",
       "      <td>Zaire</td>\n",
       "    </tr>\n",
       "    <tr>\n",
       "      <th>96</th>\n",
       "      <td>31792.0</td>\n",
       "      <td>CDN</td>\n",
       "      <td>Great Bear Lake</td>\n",
       "      <td>CDN</td>\n",
       "      <td>Canada</td>\n",
       "    </tr>\n",
       "    <tr>\n",
       "      <th>43</th>\n",
       "      <td>31492.0</td>\n",
       "      <td>R</td>\n",
       "      <td>Ozero Baikal</td>\n",
       "      <td>R</td>\n",
       "      <td>Russia</td>\n",
       "    </tr>\n",
       "    <tr>\n",
       "      <th>87</th>\n",
       "      <td>29600.0</td>\n",
       "      <td>MW</td>\n",
       "      <td>Lake Malawi</td>\n",
       "      <td>MW</td>\n",
       "      <td>Malawi</td>\n",
       "    </tr>\n",
       "  </tbody>\n",
       "</table>\n",
       "</div>"
      ],
      "text/plain": [
       "         area country_x             lake car code      country_y\n",
       "54   386400.0         R      Caspian Sea        R         Russia\n",
       "107   82103.0       CDN    Lake Superior      CDN         Canada\n",
       "79    68870.0       EAT    Lake Victoria      EAT       Tanzania\n",
       "104   59600.0       CDN       Lake Huron      CDN         Canada\n",
       "106   57800.0       USA    Lake Michigan      USA  United States\n",
       "47    41650.0        IL         Dead Sea       IL         Israel\n",
       "81    32893.0       ZRE  Lake Tanganjika      ZRE          Zaire\n",
       "96    31792.0       CDN  Great Bear Lake      CDN         Canada\n",
       "43    31492.0         R     Ozero Baikal        R         Russia\n",
       "87    29600.0        MW      Lake Malawi       MW         Malawi"
      ]
     },
     "execution_count": 29,
     "metadata": {},
     "output_type": "execute_result"
    }
   ],
   "source": [
    "pd.merge(lake_df, co_co, left_on = 'country', right_on ='car code', how = 'left')\\\n",
    "  .sort('area', ascending = False).head(10)"
   ]
  },
  {
   "cell_type": "markdown",
   "metadata": {},
   "source": [
    "# 3. Airport At Highest Evaluation"
   ]
  },
  {
   "cell_type": "code",
   "execution_count": 30,
   "metadata": {
    "collapsed": false,
    "deletable": true,
    "editable": true
   },
   "outputs": [],
   "source": [
    "airport_data = []\n",
    "for element in document.findall('airport'):\n",
    "    country = element.attrib['country'].split(' ')[0]\n",
    "    for node in list(element):\n",
    "        if node.tag == 'name':\n",
    "            airport = node.text\n",
    "        elif node.tag == 'elevation':\n",
    "            elevation = node.text\n",
    "            \n",
    "            airport_data.append({'country': country, 'airport': airport, 'elevation': elevation})\n",
    "            \n",
    "airport_df = pd.DataFrame(airport_data)"
   ]
  },
  {
   "cell_type": "code",
   "execution_count": 31,
   "metadata": {
    "collapsed": false,
    "deletable": true,
    "editable": true
   },
   "outputs": [
    {
     "name": "stderr",
     "output_type": "stream",
     "text": [
      "/home/yangzhibo5947/anaconda3/lib/python3.5/site-packages/ipykernel/__main__.py:1: FutureWarning: sort(columns=....) is deprecated, use sort_values(by=.....)\n",
      "  if __name__ == '__main__':\n"
     ]
    },
    {
     "data": {
      "text/html": [
       "<div>\n",
       "<table border=\"1\" class=\"dataframe\">\n",
       "  <thead>\n",
       "    <tr style=\"text-align: right;\">\n",
       "      <th></th>\n",
       "      <th>airport</th>\n",
       "      <th>country_x</th>\n",
       "      <th>elevation</th>\n",
       "      <th>car code</th>\n",
       "      <th>country_y</th>\n",
       "    </tr>\n",
       "  </thead>\n",
       "  <tbody>\n",
       "    <tr>\n",
       "      <th>536</th>\n",
       "      <td>Mashhad</td>\n",
       "      <td>IR</td>\n",
       "      <td>995</td>\n",
       "      <td>IR</td>\n",
       "      <td>Iran</td>\n",
       "    </tr>\n",
       "    <tr>\n",
       "      <th>915</th>\n",
       "      <td>Yakutsk</td>\n",
       "      <td>R</td>\n",
       "      <td>99</td>\n",
       "      <td>R</td>\n",
       "      <td>Russia</td>\n",
       "    </tr>\n",
       "    <tr>\n",
       "      <th>1009</th>\n",
       "      <td>A Coruna</td>\n",
       "      <td>E</td>\n",
       "      <td>99</td>\n",
       "      <td>E</td>\n",
       "      <td>Spain</td>\n",
       "    </tr>\n",
       "    <tr>\n",
       "      <th>387</th>\n",
       "      <td>Guipavas</td>\n",
       "      <td>F</td>\n",
       "      <td>99</td>\n",
       "      <td>F</td>\n",
       "      <td>France</td>\n",
       "    </tr>\n",
       "    <tr>\n",
       "      <th>498</th>\n",
       "      <td>Allahabad</td>\n",
       "      <td>IND</td>\n",
       "      <td>98</td>\n",
       "      <td>IND</td>\n",
       "      <td>India</td>\n",
       "    </tr>\n",
       "    <tr>\n",
       "      <th>361</th>\n",
       "      <td>Kuopio</td>\n",
       "      <td>SF</td>\n",
       "      <td>98</td>\n",
       "      <td>SF</td>\n",
       "      <td>Finland</td>\n",
       "    </tr>\n",
       "    <tr>\n",
       "      <th>1280</th>\n",
       "      <td>Urgench Airport</td>\n",
       "      <td>UZB</td>\n",
       "      <td>98</td>\n",
       "      <td>UZB</td>\n",
       "      <td>Uzbekistan</td>\n",
       "    </tr>\n",
       "    <tr>\n",
       "      <th>0</th>\n",
       "      <td>Herat</td>\n",
       "      <td>AFG</td>\n",
       "      <td>977</td>\n",
       "      <td>AFG</td>\n",
       "      <td>Afghanistan</td>\n",
       "    </tr>\n",
       "    <tr>\n",
       "      <th>285</th>\n",
       "      <td>Alfonso Bonilla Aragon Intl</td>\n",
       "      <td>CO</td>\n",
       "      <td>964</td>\n",
       "      <td>CO</td>\n",
       "      <td>Colombia</td>\n",
       "    </tr>\n",
       "    <tr>\n",
       "      <th>864</th>\n",
       "      <td>Henri Coanda</td>\n",
       "      <td>RO</td>\n",
       "      <td>96</td>\n",
       "      <td>RO</td>\n",
       "      <td>Romania</td>\n",
       "    </tr>\n",
       "  </tbody>\n",
       "</table>\n",
       "</div>"
      ],
      "text/plain": [
       "                          airport country_x elevation car code    country_y\n",
       "536                       Mashhad        IR       995       IR         Iran\n",
       "915                       Yakutsk         R        99        R       Russia\n",
       "1009                     A Coruna         E        99        E        Spain\n",
       "387                      Guipavas         F        99        F       France\n",
       "498                     Allahabad       IND        98      IND        India\n",
       "361                        Kuopio        SF        98       SF      Finland\n",
       "1280              Urgench Airport       UZB        98      UZB   Uzbekistan\n",
       "0                           Herat       AFG       977      AFG  Afghanistan\n",
       "285   Alfonso Bonilla Aragon Intl        CO       964       CO     Colombia\n",
       "864                  Henri Coanda        RO        96       RO      Romania"
      ]
     },
     "execution_count": 31,
     "metadata": {},
     "output_type": "execute_result"
    }
   ],
   "source": [
    "pd.merge(airport_df, co_co, left_on = 'country', right_on ='car code', how = 'left')\\\n",
    "  .sort('elevation', ascending = False).head(10)"
   ]
  }
 ],
 "metadata": {
  "anaconda-cloud": {},
  "kernelspec": {
   "display_name": "Python [Root]",
   "language": "python",
   "name": "Python [Root]"
  },
  "language_info": {
   "codemirror_mode": {
    "name": "ipython",
    "version": 3
   },
   "file_extension": ".py",
   "mimetype": "text/x-python",
   "name": "python",
   "nbconvert_exporter": "python",
   "pygments_lexer": "ipython3",
   "version": "3.5.2"
  }
 },
 "nbformat": 4,
 "nbformat_minor": 0
}
