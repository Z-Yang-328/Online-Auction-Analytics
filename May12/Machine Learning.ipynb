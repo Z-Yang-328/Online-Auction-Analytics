{
 "cells": [
  {
   "cell_type": "code",
   "execution_count": 1,
   "metadata": {
    "collapsed": true,
    "deletable": true,
    "editable": true
   },
   "outputs": [],
   "source": [
    "#load all necessary packages\n",
    "import pandas as pd\n",
    "import numpy as np\n",
    "import matplotlib.pyplot as plt\n",
    "import matplotlib\n",
    "import matplotlib.cm as cm\n",
    "import seaborn as sns\n",
    "import cartopy.crs as ccrs\n",
    "import cartopy.io.shapereader as shpreader\n",
    "import pycountry\n",
    "import itertools\n",
    "\n",
    "%matplotlib inline\n",
    "\n",
    "from mpl_toolkits.axes_grid1 import make_axes_locatable\n",
    "from IPython.display import display\n",
    "\n",
    "import warnings\n",
    "warnings.filterwarnings(\"ignore\")"
   ]
  },
  {
   "cell_type": "code",
   "execution_count": 2,
   "metadata": {
    "collapsed": false,
    "deletable": true,
    "editable": true
   },
   "outputs": [
    {
     "data": {
      "text/html": [
       "<div>\n",
       "<table border=\"1\" class=\"dataframe\">\n",
       "  <thead>\n",
       "    <tr style=\"text-align: right;\">\n",
       "      <th></th>\n",
       "      <th>bid_id</th>\n",
       "      <th>bidder_id</th>\n",
       "      <th>auction</th>\n",
       "      <th>merchandise</th>\n",
       "      <th>device</th>\n",
       "      <th>time</th>\n",
       "      <th>country</th>\n",
       "    </tr>\n",
       "  </thead>\n",
       "  <tbody>\n",
       "    <tr>\n",
       "      <th>0</th>\n",
       "      <td>0</td>\n",
       "      <td>8dac2b259fd1c6d1120e519fb1ac14fbqvax8</td>\n",
       "      <td>ewmzr</td>\n",
       "      <td>jewelry</td>\n",
       "      <td>phone0</td>\n",
       "      <td>9759243157894736</td>\n",
       "      <td>us</td>\n",
       "    </tr>\n",
       "    <tr>\n",
       "      <th>1</th>\n",
       "      <td>1</td>\n",
       "      <td>668d393e858e8126275433046bbd35c6tywop</td>\n",
       "      <td>aeqok</td>\n",
       "      <td>furniture</td>\n",
       "      <td>phone1</td>\n",
       "      <td>9759243157894736</td>\n",
       "      <td>in</td>\n",
       "    </tr>\n",
       "    <tr>\n",
       "      <th>2</th>\n",
       "      <td>2</td>\n",
       "      <td>aa5f360084278b35d746fa6af3a7a1a5ra3xe</td>\n",
       "      <td>wa00e</td>\n",
       "      <td>home goods</td>\n",
       "      <td>phone2</td>\n",
       "      <td>9759243157894736</td>\n",
       "      <td>py</td>\n",
       "    </tr>\n",
       "    <tr>\n",
       "      <th>3</th>\n",
       "      <td>3</td>\n",
       "      <td>3939ac3ef7d472a59a9c5f893dd3e39fh9ofi</td>\n",
       "      <td>jefix</td>\n",
       "      <td>jewelry</td>\n",
       "      <td>phone4</td>\n",
       "      <td>9759243157894736</td>\n",
       "      <td>in</td>\n",
       "    </tr>\n",
       "    <tr>\n",
       "      <th>4</th>\n",
       "      <td>4</td>\n",
       "      <td>8393c48eaf4b8fa96886edc7cf27b372dsibi</td>\n",
       "      <td>jefix</td>\n",
       "      <td>jewelry</td>\n",
       "      <td>phone5</td>\n",
       "      <td>9759243157894736</td>\n",
       "      <td>in</td>\n",
       "    </tr>\n",
       "  </tbody>\n",
       "</table>\n",
       "</div>"
      ],
      "text/plain": [
       "   bid_id                              bidder_id auction merchandise  device  \\\n",
       "0       0  8dac2b259fd1c6d1120e519fb1ac14fbqvax8   ewmzr     jewelry  phone0   \n",
       "1       1  668d393e858e8126275433046bbd35c6tywop   aeqok   furniture  phone1   \n",
       "2       2  aa5f360084278b35d746fa6af3a7a1a5ra3xe   wa00e  home goods  phone2   \n",
       "3       3  3939ac3ef7d472a59a9c5f893dd3e39fh9ofi   jefix     jewelry  phone4   \n",
       "4       4  8393c48eaf4b8fa96886edc7cf27b372dsibi   jefix     jewelry  phone5   \n",
       "\n",
       "               time country  \n",
       "0  9759243157894736      us  \n",
       "1  9759243157894736      in  \n",
       "2  9759243157894736      py  \n",
       "3  9759243157894736      in  \n",
       "4  9759243157894736      in  "
      ]
     },
     "execution_count": 2,
     "metadata": {},
     "output_type": "execute_result"
    }
   ],
   "source": [
    "data = pd.read_csv('Data/bids.csv')\n",
    "data.drop(['ip', 'url'], axis = 1, inplace = True)\n",
    "data.head()"
   ]
  },
  {
   "cell_type": "code",
   "execution_count": 3,
   "metadata": {
    "collapsed": false,
    "deletable": true,
    "editable": true
   },
   "outputs": [
    {
     "data": {
      "text/html": [
       "<div>\n",
       "<table border=\"1\" class=\"dataframe\">\n",
       "  <thead>\n",
       "    <tr style=\"text-align: right;\">\n",
       "      <th></th>\n",
       "      <th>bidder_id</th>\n",
       "      <th>outcome</th>\n",
       "    </tr>\n",
       "  </thead>\n",
       "  <tbody>\n",
       "    <tr>\n",
       "      <th>0</th>\n",
       "      <td>91a3c57b13234af24875c56fb7e2b2f4rb56a</td>\n",
       "      <td>0.0</td>\n",
       "    </tr>\n",
       "    <tr>\n",
       "      <th>1</th>\n",
       "      <td>624f258b49e77713fc34034560f93fb3hu3jo</td>\n",
       "      <td>0.0</td>\n",
       "    </tr>\n",
       "    <tr>\n",
       "      <th>2</th>\n",
       "      <td>1c5f4fc669099bfbfac515cd26997bd12ruaj</td>\n",
       "      <td>0.0</td>\n",
       "    </tr>\n",
       "    <tr>\n",
       "      <th>3</th>\n",
       "      <td>4bee9aba2abda51bf43d639013d6efe12iycd</td>\n",
       "      <td>0.0</td>\n",
       "    </tr>\n",
       "    <tr>\n",
       "      <th>4</th>\n",
       "      <td>4ab12bc61c82ddd9c2d65e60555808acqgos1</td>\n",
       "      <td>0.0</td>\n",
       "    </tr>\n",
       "  </tbody>\n",
       "</table>\n",
       "</div>"
      ],
      "text/plain": [
       "                               bidder_id  outcome\n",
       "0  91a3c57b13234af24875c56fb7e2b2f4rb56a      0.0\n",
       "1  624f258b49e77713fc34034560f93fb3hu3jo      0.0\n",
       "2  1c5f4fc669099bfbfac515cd26997bd12ruaj      0.0\n",
       "3  4bee9aba2abda51bf43d639013d6efe12iycd      0.0\n",
       "4  4ab12bc61c82ddd9c2d65e60555808acqgos1      0.0"
      ]
     },
     "execution_count": 3,
     "metadata": {},
     "output_type": "execute_result"
    }
   ],
   "source": [
    "bidder_train = pd.read_csv('Data/train.csv')\n",
    "bidder_train.drop(['payment_account', 'address'], axis=1, inplace = True)\n",
    "bidder_train.head()"
   ]
  },
  {
   "cell_type": "code",
   "execution_count": 4,
   "metadata": {
    "collapsed": false,
    "deletable": true,
    "editable": true
   },
   "outputs": [
    {
     "data": {
      "text/html": [
       "<div>\n",
       "<table border=\"1\" class=\"dataframe\">\n",
       "  <thead>\n",
       "    <tr style=\"text-align: right;\">\n",
       "      <th></th>\n",
       "      <th>bidder_id</th>\n",
       "    </tr>\n",
       "  </thead>\n",
       "  <tbody>\n",
       "    <tr>\n",
       "      <th>0</th>\n",
       "      <td>49bb5a3c944b8fc337981cc7a9ccae41u31d7</td>\n",
       "    </tr>\n",
       "    <tr>\n",
       "      <th>1</th>\n",
       "      <td>a921612b85a1494456e74c09393ccb65ylp4y</td>\n",
       "    </tr>\n",
       "    <tr>\n",
       "      <th>2</th>\n",
       "      <td>6b601e72a4d264dab9ace9d7b229b47479v6i</td>\n",
       "    </tr>\n",
       "    <tr>\n",
       "      <th>3</th>\n",
       "      <td>eaf0ed0afc9689779417274b4791726cn5udi</td>\n",
       "    </tr>\n",
       "    <tr>\n",
       "      <th>4</th>\n",
       "      <td>cdecd8d02ed8c6037e38042c7745f688mx5sf</td>\n",
       "    </tr>\n",
       "  </tbody>\n",
       "</table>\n",
       "</div>"
      ],
      "text/plain": [
       "                               bidder_id\n",
       "0  49bb5a3c944b8fc337981cc7a9ccae41u31d7\n",
       "1  a921612b85a1494456e74c09393ccb65ylp4y\n",
       "2  6b601e72a4d264dab9ace9d7b229b47479v6i\n",
       "3  eaf0ed0afc9689779417274b4791726cn5udi\n",
       "4  cdecd8d02ed8c6037e38042c7745f688mx5sf"
      ]
     },
     "execution_count": 4,
     "metadata": {},
     "output_type": "execute_result"
    }
   ],
   "source": [
    "bidder_test = pd.read_csv('Data/test.csv')\n",
    "bidder_test.drop(['payment_account', 'address'], axis=1, inplace = True)\n",
    "bidder_test.head()"
   ]
  },
  {
   "cell_type": "code",
   "execution_count": 5,
   "metadata": {
    "collapsed": false,
    "deletable": true,
    "editable": true
   },
   "outputs": [],
   "source": [
    "num_auction = pd.DataFrame(data[['bidder_id', 'auction', 'merchandise']]\\\n",
    "                           .groupby(['merchandise','bidder_id'])['auction'].nunique())\n",
    "num_bids = data[['bidder_id','bid_id','merchandise']].groupby(['merchandise','bidder_id']).count()"
   ]
  },
  {
   "cell_type": "code",
   "execution_count": 6,
   "metadata": {
    "collapsed": false,
    "deletable": true,
    "editable": true
   },
   "outputs": [
    {
     "data": {
      "text/html": [
       "<div>\n",
       "<table border=\"1\" class=\"dataframe\">\n",
       "  <thead>\n",
       "    <tr style=\"text-align: right;\">\n",
       "      <th></th>\n",
       "      <th></th>\n",
       "      <th>auction</th>\n",
       "    </tr>\n",
       "    <tr>\n",
       "      <th>merchandise</th>\n",
       "      <th>bidder_id</th>\n",
       "      <th></th>\n",
       "    </tr>\n",
       "  </thead>\n",
       "  <tbody>\n",
       "    <tr>\n",
       "      <th rowspan=\"2\" valign=\"top\">auto parts</th>\n",
       "      <th>631f923b7bcf91f61a2e9f96520bd8c8vtl14</th>\n",
       "      <td>12</td>\n",
       "    </tr>\n",
       "    <tr>\n",
       "      <th>8ebc5b544d62622e45e1ee22a56265e0xwwsb</th>\n",
       "      <td>66</td>\n",
       "    </tr>\n",
       "    <tr>\n",
       "      <th rowspan=\"3\" valign=\"top\">books and music</th>\n",
       "      <th>0061edfc5b07ff3d70d693883a38d370oy4fs</th>\n",
       "      <td>38</td>\n",
       "    </tr>\n",
       "    <tr>\n",
       "      <th>00a0517965f18610417ee784a05f494d4dw6e</th>\n",
       "      <td>74</td>\n",
       "    </tr>\n",
       "    <tr>\n",
       "      <th>01c5692d487454cdbe731df330bef608f48zz</th>\n",
       "      <td>19</td>\n",
       "    </tr>\n",
       "  </tbody>\n",
       "</table>\n",
       "</div>"
      ],
      "text/plain": [
       "                                                       auction\n",
       "merchandise     bidder_id                                     \n",
       "auto parts      631f923b7bcf91f61a2e9f96520bd8c8vtl14       12\n",
       "                8ebc5b544d62622e45e1ee22a56265e0xwwsb       66\n",
       "books and music 0061edfc5b07ff3d70d693883a38d370oy4fs       38\n",
       "                00a0517965f18610417ee784a05f494d4dw6e       74\n",
       "                01c5692d487454cdbe731df330bef608f48zz       19"
      ]
     },
     "execution_count": 6,
     "metadata": {},
     "output_type": "execute_result"
    }
   ],
   "source": [
    "num_auction.head()"
   ]
  },
  {
   "cell_type": "code",
   "execution_count": 7,
   "metadata": {
    "collapsed": false,
    "deletable": true,
    "editable": true
   },
   "outputs": [
    {
     "data": {
      "text/html": [
       "<div>\n",
       "<table border=\"1\" class=\"dataframe\">\n",
       "  <thead>\n",
       "    <tr style=\"text-align: right;\">\n",
       "      <th></th>\n",
       "      <th></th>\n",
       "      <th>bid_id</th>\n",
       "    </tr>\n",
       "    <tr>\n",
       "      <th>merchandise</th>\n",
       "      <th>bidder_id</th>\n",
       "      <th></th>\n",
       "    </tr>\n",
       "  </thead>\n",
       "  <tbody>\n",
       "    <tr>\n",
       "      <th rowspan=\"2\" valign=\"top\">auto parts</th>\n",
       "      <th>631f923b7bcf91f61a2e9f96520bd8c8vtl14</th>\n",
       "      <td>2413</td>\n",
       "    </tr>\n",
       "    <tr>\n",
       "      <th>8ebc5b544d62622e45e1ee22a56265e0xwwsb</th>\n",
       "      <td>7344</td>\n",
       "    </tr>\n",
       "    <tr>\n",
       "      <th rowspan=\"3\" valign=\"top\">books and music</th>\n",
       "      <th>0061edfc5b07ff3d70d693883a38d370oy4fs</th>\n",
       "      <td>134</td>\n",
       "    </tr>\n",
       "    <tr>\n",
       "      <th>00a0517965f18610417ee784a05f494d4dw6e</th>\n",
       "      <td>141</td>\n",
       "    </tr>\n",
       "    <tr>\n",
       "      <th>01c5692d487454cdbe731df330bef608f48zz</th>\n",
       "      <td>82</td>\n",
       "    </tr>\n",
       "  </tbody>\n",
       "</table>\n",
       "</div>"
      ],
      "text/plain": [
       "                                                       bid_id\n",
       "merchandise     bidder_id                                    \n",
       "auto parts      631f923b7bcf91f61a2e9f96520bd8c8vtl14    2413\n",
       "                8ebc5b544d62622e45e1ee22a56265e0xwwsb    7344\n",
       "books and music 0061edfc5b07ff3d70d693883a38d370oy4fs     134\n",
       "                00a0517965f18610417ee784a05f494d4dw6e     141\n",
       "                01c5692d487454cdbe731df330bef608f48zz      82"
      ]
     },
     "execution_count": 7,
     "metadata": {},
     "output_type": "execute_result"
    }
   ],
   "source": [
    "num_bids.head()"
   ]
  },
  {
   "cell_type": "code",
   "execution_count": 8,
   "metadata": {
    "collapsed": false,
    "deletable": true,
    "editable": true
   },
   "outputs": [],
   "source": [
    "num_bids_auction = pd.DataFrame(num_bids.bid_id/num_auction.auction).rename(columns = {0:'avg_num_bids'})"
   ]
  },
  {
   "cell_type": "code",
   "execution_count": 9,
   "metadata": {
    "collapsed": false,
    "deletable": true,
    "editable": true
   },
   "outputs": [],
   "source": [
    "num_bids_auction = num_bids_auction.reset_index()"
   ]
  },
  {
   "cell_type": "code",
   "execution_count": 10,
   "metadata": {
    "collapsed": false,
    "deletable": true,
    "editable": true
   },
   "outputs": [],
   "source": [
    "merged_data = num_bids_auction.merge(data, left_on = ['bidder_id','merchandise'],\n",
    "                                     right_on=['bidder_id','merchandise'], how = 'right')"
   ]
  },
  {
   "cell_type": "code",
   "execution_count": 11,
   "metadata": {
    "collapsed": false,
    "deletable": true,
    "editable": true
   },
   "outputs": [],
   "source": [
    "merged_data.country = merged_data.country.astype('category')\n",
    "merged_data.device = merged_data.device.astype('category')"
   ]
  },
  {
   "cell_type": "code",
   "execution_count": 12,
   "metadata": {
    "collapsed": false,
    "deletable": true,
    "editable": true
   },
   "outputs": [],
   "source": [
    "merged_data[['country', 'device']] = merged_data[['country', 'device']].apply(lambda x: x.cat.codes)"
   ]
  },
  {
   "cell_type": "code",
   "execution_count": 13,
   "metadata": {
    "collapsed": false,
    "deletable": true,
    "editable": true
   },
   "outputs": [
    {
     "data": {
      "text/html": [
       "<div>\n",
       "<table border=\"1\" class=\"dataframe\">\n",
       "  <thead>\n",
       "    <tr style=\"text-align: right;\">\n",
       "      <th></th>\n",
       "      <th>merchandise</th>\n",
       "      <th>bidder_id</th>\n",
       "      <th>avg_num_bids</th>\n",
       "      <th>bid_id</th>\n",
       "      <th>auction</th>\n",
       "      <th>device</th>\n",
       "      <th>time</th>\n",
       "      <th>country</th>\n",
       "    </tr>\n",
       "  </thead>\n",
       "  <tbody>\n",
       "    <tr>\n",
       "      <th>0</th>\n",
       "      <td>auto parts</td>\n",
       "      <td>631f923b7bcf91f61a2e9f96520bd8c8vtl14</td>\n",
       "      <td>201.083333</td>\n",
       "      <td>1117</td>\n",
       "      <td>0bxy9</td>\n",
       "      <td>6022</td>\n",
       "      <td>9759249421052631</td>\n",
       "      <td>132</td>\n",
       "    </tr>\n",
       "    <tr>\n",
       "      <th>1</th>\n",
       "      <td>auto parts</td>\n",
       "      <td>631f923b7bcf91f61a2e9f96520bd8c8vtl14</td>\n",
       "      <td>201.083333</td>\n",
       "      <td>1494</td>\n",
       "      <td>ca3p4</td>\n",
       "      <td>6022</td>\n",
       "      <td>9759251736842105</td>\n",
       "      <td>132</td>\n",
       "    </tr>\n",
       "    <tr>\n",
       "      <th>2</th>\n",
       "      <td>auto parts</td>\n",
       "      <td>631f923b7bcf91f61a2e9f96520bd8c8vtl14</td>\n",
       "      <td>201.083333</td>\n",
       "      <td>3327</td>\n",
       "      <td>vev1t</td>\n",
       "      <td>469</td>\n",
       "      <td>9759261736842105</td>\n",
       "      <td>15</td>\n",
       "    </tr>\n",
       "    <tr>\n",
       "      <th>3</th>\n",
       "      <td>auto parts</td>\n",
       "      <td>631f923b7bcf91f61a2e9f96520bd8c8vtl14</td>\n",
       "      <td>201.083333</td>\n",
       "      <td>4193</td>\n",
       "      <td>04hdj</td>\n",
       "      <td>1379</td>\n",
       "      <td>9759265631578947</td>\n",
       "      <td>83</td>\n",
       "    </tr>\n",
       "    <tr>\n",
       "      <th>4</th>\n",
       "      <td>auto parts</td>\n",
       "      <td>631f923b7bcf91f61a2e9f96520bd8c8vtl14</td>\n",
       "      <td>201.083333</td>\n",
       "      <td>7938</td>\n",
       "      <td>ggsdh</td>\n",
       "      <td>1379</td>\n",
       "      <td>9759274315789473</td>\n",
       "      <td>83</td>\n",
       "    </tr>\n",
       "  </tbody>\n",
       "</table>\n",
       "</div>"
      ],
      "text/plain": [
       "  merchandise                              bidder_id  avg_num_bids  bid_id  \\\n",
       "0  auto parts  631f923b7bcf91f61a2e9f96520bd8c8vtl14    201.083333    1117   \n",
       "1  auto parts  631f923b7bcf91f61a2e9f96520bd8c8vtl14    201.083333    1494   \n",
       "2  auto parts  631f923b7bcf91f61a2e9f96520bd8c8vtl14    201.083333    3327   \n",
       "3  auto parts  631f923b7bcf91f61a2e9f96520bd8c8vtl14    201.083333    4193   \n",
       "4  auto parts  631f923b7bcf91f61a2e9f96520bd8c8vtl14    201.083333    7938   \n",
       "\n",
       "  auction  device              time  country  \n",
       "0   0bxy9    6022  9759249421052631      132  \n",
       "1   ca3p4    6022  9759251736842105      132  \n",
       "2   vev1t     469  9759261736842105       15  \n",
       "3   04hdj    1379  9759265631578947       83  \n",
       "4   ggsdh    1379  9759274315789473       83  "
      ]
     },
     "execution_count": 13,
     "metadata": {},
     "output_type": "execute_result"
    }
   ],
   "source": [
    "merged_data.head()"
   ]
  },
  {
   "cell_type": "code",
   "execution_count": 14,
   "metadata": {
    "collapsed": false,
    "deletable": true,
    "editable": true
   },
   "outputs": [],
   "source": [
    "countries = pd.DataFrame(data.groupby(['bidder_id', 'country']).count().reset_index()\\\n",
    "                 .groupby('bidder_id')['country'].count()).rename(columns={'country':'num_countries'})"
   ]
  },
  {
   "cell_type": "code",
   "execution_count": 15,
   "metadata": {
    "collapsed": false,
    "deletable": true,
    "editable": true
   },
   "outputs": [],
   "source": [
    "merged_data_1 = countries.merge(merged_data, left_index = True, right_on = 'bidder_id', how = 'right')"
   ]
  },
  {
   "cell_type": "code",
   "execution_count": 16,
   "metadata": {
    "collapsed": true,
    "deletable": true,
    "editable": true
   },
   "outputs": [],
   "source": [
    "devices = pd.DataFrame(data.groupby(['bidder_id', 'device']).count().reset_index()\\\n",
    "                 .groupby('bidder_id')['device'].count()).rename(columns={'device':'num_device'})"
   ]
  },
  {
   "cell_type": "code",
   "execution_count": 17,
   "metadata": {
    "collapsed": true,
    "deletable": true,
    "editable": true
   },
   "outputs": [],
   "source": [
    "merged_data_2 = devices.merge(merged_data_1, left_index = True, right_on = 'bidder_id', how = 'right')"
   ]
  },
  {
   "cell_type": "code",
   "execution_count": 18,
   "metadata": {
    "collapsed": false,
    "deletable": true,
    "editable": true
   },
   "outputs": [],
   "source": [
    "train_data = merged_data_2.merge(bidder_train, left_on = 'bidder_id', right_on = 'bidder_id', how = 'right')\n",
    "labels = train_data.pop('outcome')"
   ]
  },
  {
   "cell_type": "code",
   "execution_count": 96,
   "metadata": {
    "collapsed": false
   },
   "outputs": [
    {
     "data": {
      "text/html": [
       "<div>\n",
       "<table border=\"1\" class=\"dataframe\">\n",
       "  <thead>\n",
       "    <tr style=\"text-align: right;\">\n",
       "      <th></th>\n",
       "      <th>num_device</th>\n",
       "      <th>num_countries</th>\n",
       "      <th>merchandise</th>\n",
       "      <th>bidder_id</th>\n",
       "      <th>avg_num_bids</th>\n",
       "      <th>bid_id</th>\n",
       "      <th>auction</th>\n",
       "      <th>device</th>\n",
       "      <th>time</th>\n",
       "      <th>country</th>\n",
       "    </tr>\n",
       "  </thead>\n",
       "  <tbody>\n",
       "    <tr>\n",
       "      <th>0</th>\n",
       "      <td>154.0</td>\n",
       "      <td>34.0</td>\n",
       "      <td>auto parts</td>\n",
       "      <td>631f923b7bcf91f61a2e9f96520bd8c8vtl14</td>\n",
       "      <td>201.083333</td>\n",
       "      <td>1117.0</td>\n",
       "      <td>0bxy9</td>\n",
       "      <td>6022.0</td>\n",
       "      <td>9.759249e+15</td>\n",
       "      <td>132.0</td>\n",
       "    </tr>\n",
       "    <tr>\n",
       "      <th>1</th>\n",
       "      <td>154.0</td>\n",
       "      <td>34.0</td>\n",
       "      <td>auto parts</td>\n",
       "      <td>631f923b7bcf91f61a2e9f96520bd8c8vtl14</td>\n",
       "      <td>201.083333</td>\n",
       "      <td>1494.0</td>\n",
       "      <td>ca3p4</td>\n",
       "      <td>6022.0</td>\n",
       "      <td>9.759252e+15</td>\n",
       "      <td>132.0</td>\n",
       "    </tr>\n",
       "    <tr>\n",
       "      <th>2</th>\n",
       "      <td>154.0</td>\n",
       "      <td>34.0</td>\n",
       "      <td>auto parts</td>\n",
       "      <td>631f923b7bcf91f61a2e9f96520bd8c8vtl14</td>\n",
       "      <td>201.083333</td>\n",
       "      <td>3327.0</td>\n",
       "      <td>vev1t</td>\n",
       "      <td>469.0</td>\n",
       "      <td>9.759262e+15</td>\n",
       "      <td>15.0</td>\n",
       "    </tr>\n",
       "    <tr>\n",
       "      <th>3</th>\n",
       "      <td>154.0</td>\n",
       "      <td>34.0</td>\n",
       "      <td>auto parts</td>\n",
       "      <td>631f923b7bcf91f61a2e9f96520bd8c8vtl14</td>\n",
       "      <td>201.083333</td>\n",
       "      <td>4193.0</td>\n",
       "      <td>04hdj</td>\n",
       "      <td>1379.0</td>\n",
       "      <td>9.759266e+15</td>\n",
       "      <td>83.0</td>\n",
       "    </tr>\n",
       "    <tr>\n",
       "      <th>4</th>\n",
       "      <td>154.0</td>\n",
       "      <td>34.0</td>\n",
       "      <td>auto parts</td>\n",
       "      <td>631f923b7bcf91f61a2e9f96520bd8c8vtl14</td>\n",
       "      <td>201.083333</td>\n",
       "      <td>7938.0</td>\n",
       "      <td>ggsdh</td>\n",
       "      <td>1379.0</td>\n",
       "      <td>9.759274e+15</td>\n",
       "      <td>83.0</td>\n",
       "    </tr>\n",
       "  </tbody>\n",
       "</table>\n",
       "</div>"
      ],
      "text/plain": [
       "   num_device  num_countries merchandise  \\\n",
       "0       154.0           34.0  auto parts   \n",
       "1       154.0           34.0  auto parts   \n",
       "2       154.0           34.0  auto parts   \n",
       "3       154.0           34.0  auto parts   \n",
       "4       154.0           34.0  auto parts   \n",
       "\n",
       "                               bidder_id  avg_num_bids  bid_id auction  \\\n",
       "0  631f923b7bcf91f61a2e9f96520bd8c8vtl14    201.083333  1117.0   0bxy9   \n",
       "1  631f923b7bcf91f61a2e9f96520bd8c8vtl14    201.083333  1494.0   ca3p4   \n",
       "2  631f923b7bcf91f61a2e9f96520bd8c8vtl14    201.083333  3327.0   vev1t   \n",
       "3  631f923b7bcf91f61a2e9f96520bd8c8vtl14    201.083333  4193.0   04hdj   \n",
       "4  631f923b7bcf91f61a2e9f96520bd8c8vtl14    201.083333  7938.0   ggsdh   \n",
       "\n",
       "   device          time  country  \n",
       "0  6022.0  9.759249e+15    132.0  \n",
       "1  6022.0  9.759252e+15    132.0  \n",
       "2   469.0  9.759262e+15     15.0  \n",
       "3  1379.0  9.759266e+15     83.0  \n",
       "4  1379.0  9.759274e+15     83.0  "
      ]
     },
     "execution_count": 96,
     "metadata": {},
     "output_type": "execute_result"
    }
   ],
   "source": [
    "train_data.head()"
   ]
  },
  {
   "cell_type": "code",
   "execution_count": 19,
   "metadata": {
    "collapsed": true,
    "deletable": true,
    "editable": true
   },
   "outputs": [],
   "source": [
    "test_data = merged_data_2.merge(bidder_test, left_on = 'bidder_id', right_on = 'bidder_id', how = 'right')"
   ]
  },
  {
   "cell_type": "code",
   "execution_count": 20,
   "metadata": {
    "collapsed": false,
    "deletable": true,
    "editable": true
   },
   "outputs": [],
   "source": [
    "from sklearn.model_selection import train_test_split\n",
    "x_train, x_test, y_train, y_test = train_test_split(train_data, labels, test_size = 0.2)"
   ]
  },
  {
   "cell_type": "code",
   "execution_count": 1,
   "metadata": {
    "collapsed": false,
    "deletable": true,
    "editable": true
   },
   "outputs": [],
   "source": [
    "from sklearn.linear_model import SGDClassifier\n",
    " \n",
    "def iter_minibatches(chunksize):\n",
    "    # Provide chunks one by one\n",
    "    chunkstartmarker = 0\n",
    "    while chunkstartmarker < len(x_train):\n",
    "        chunkrows = range(chunkstartmarker,chunkstartmarker+chunksize)\n",
    "        X_chunk = x_train.drop(['merchandise', 'bidder_id', 'auction'], axis = 1)\\\n",
    "                         .fillna(method='ffill').iloc[list(chunkrows)]\n",
    "        y_chunk = y_train.iloc[list(chunkrows)]\n",
    "        yield X_chunk, y_chunk\n",
    "        chunkstartmarker += chunksize"
   ]
  },
  {
   "cell_type": "code",
   "execution_count": null,
   "metadata": {
    "collapsed": false,
    "deletable": true,
    "editable": true
   },
   "outputs": [],
   "source": [
    "#from sklearn.linear_model import SGDClassifier\n",
    "batcherator = iter_minibatches(chunksize=10000)\n",
    "model = SGDClassifier()\n",
    "# Train model\n",
    "for X_chunk, y_chunk in batcherator:\n",
    "    model.partial_fit(X_chunk, y_chunk, classes=np.unique(y_chunk))\n",
    "    # Now make predictions with trained model\n",
    "    y_predicted = model.predict(x_test.fillna('0').drop(['merchandise', 'bidder_id', 'auction'], axis = 1))"
   ]
  },
  {
   "cell_type": "code",
   "execution_count": 35,
   "metadata": {
    "collapsed": true
   },
   "outputs": [],
   "source": [
    "from lightning.classification import LinearSVC\n",
    "svc = LinearSVC()"
   ]
  },
  {
   "cell_type": "code",
   "execution_count": 36,
   "metadata": {
    "collapsed": false
   },
   "outputs": [
    {
     "data": {
      "text/plain": [
       "LinearSVC(C=1.0, callback=None, criterion='accuracy', loss='hinge',\n",
       "     max_iter=1000, n_calls=100, permute=True, random_state=None,\n",
       "     shrinking=True, tol=0.001, verbose=0, warm_start=False)"
      ]
     },
     "execution_count": 36,
     "metadata": {},
     "output_type": "execute_result"
    }
   ],
   "source": [
    "svc.fit(x_train.drop(['merchandise', 'bidder_id', 'auction'], axis = 1).fillna(method='ffill'), y_train)"
   ]
  },
  {
   "cell_type": "code",
   "execution_count": 37,
   "metadata": {
    "collapsed": false
   },
   "outputs": [
    {
     "data": {
      "text/plain": [
       "0.86646012786303972"
      ]
     },
     "execution_count": 37,
     "metadata": {},
     "output_type": "execute_result"
    }
   ],
   "source": [
    "svc.score(x_test.fillna(method='ffill').drop(['merchandise', 'bidder_id', 'auction'], axis = 1), y_test)"
   ]
  },
  {
   "cell_type": "code",
   "execution_count": 45,
   "metadata": {
    "collapsed": true
   },
   "outputs": [],
   "source": [
    "from lightning.classification import SGDClassifier\n",
    "sgd = SGDClassifier(learning_rate=\"constant\",\n",
    "                      alpha=1e-3,\n",
    "                      max_iter=20,\n",
    "random_state=0)"
   ]
  },
  {
   "cell_type": "code",
   "execution_count": 47,
   "metadata": {
    "collapsed": false
   },
   "outputs": [
    {
     "data": {
      "text/plain": [
       "SGDClassifier(alpha=0.001, callback=None, epsilon=0.01, eta0=0.03,\n",
       "       fit_intercept=True, intercept_decay=1.0, learning_rate='constant',\n",
       "       loss='hinge', max_iter=20, multiclass=False, n_calls=100,\n",
       "       penalty='l2', power_t=0.5, random_state=0, shuffle=True, verbose=0)"
      ]
     },
     "execution_count": 47,
     "metadata": {},
     "output_type": "execute_result"
    }
   ],
   "source": [
    "sgd.fit(X=x_train.drop(['merchandise', 'bidder_id', 'auction'], axis = 1).fillna(method='ffill'), y=y_train)"
   ]
  },
  {
   "cell_type": "code",
   "execution_count": 61,
   "metadata": {
    "collapsed": false
   },
   "outputs": [
    {
     "ename": "NameError",
     "evalue": "name 'sgd' is not defined",
     "output_type": "error",
     "traceback": [
      "\u001b[0;31m---------------------------------------------------------------------------\u001b[0m",
      "\u001b[0;31mNameError\u001b[0m                                 Traceback (most recent call last)",
      "\u001b[0;32m<ipython-input-61-1f550e5aff84>\u001b[0m in \u001b[0;36m<module>\u001b[0;34m()\u001b[0m\n\u001b[0;32m----> 1\u001b[0;31m \u001b[0msgd\u001b[0m\u001b[0;34m.\u001b[0m\u001b[0mscore\u001b[0m\u001b[0;34m(\u001b[0m\u001b[0mx_test\u001b[0m\u001b[0;34m.\u001b[0m\u001b[0mfillna\u001b[0m\u001b[0;34m(\u001b[0m\u001b[0mmethod\u001b[0m\u001b[0;34m=\u001b[0m\u001b[0;34m'ffill'\u001b[0m\u001b[0;34m)\u001b[0m\u001b[0;34m.\u001b[0m\u001b[0mdrop\u001b[0m\u001b[0;34m(\u001b[0m\u001b[0;34m[\u001b[0m\u001b[0;34m'merchandise'\u001b[0m\u001b[0;34m,\u001b[0m \u001b[0;34m'bidder_id'\u001b[0m\u001b[0;34m,\u001b[0m \u001b[0;34m'auction'\u001b[0m\u001b[0;34m]\u001b[0m\u001b[0;34m,\u001b[0m \u001b[0maxis\u001b[0m \u001b[0;34m=\u001b[0m \u001b[0;36m1\u001b[0m\u001b[0;34m)\u001b[0m\u001b[0;34m,\u001b[0m \u001b[0my_test\u001b[0m\u001b[0;34m)\u001b[0m\u001b[0;34m\u001b[0m\u001b[0m\n\u001b[0m",
      "\u001b[0;31mNameError\u001b[0m: name 'sgd' is not defined"
     ]
    }
   ],
   "source": [
    "sgd.score(x_test.fillna(method='ffill').drop(['merchandise', 'bidder_id', 'auction'], axis = 1), y_test)"
   ]
  },
  {
   "cell_type": "code",
   "execution_count": 91,
   "metadata": {
    "collapsed": true
   },
   "outputs": [],
   "source": [
    "from lightning.classification import AdaGradClassifier\n",
    "ada = AdaGradClassifier()"
   ]
  },
  {
   "cell_type": "code",
   "execution_count": 92,
   "metadata": {
    "collapsed": false
   },
   "outputs": [
    {
     "data": {
      "text/plain": [
       "AdaGradClassifier(alpha=1.0, callback=None, eta=1.0, gamma=1.0, l1_ratio=0,\n",
       "         loss='hinge', n_calls=None, n_iter=10, random_state=None,\n",
       "         shuffle=True)"
      ]
     },
     "execution_count": 92,
     "metadata": {},
     "output_type": "execute_result"
    }
   ],
   "source": [
    "ada.fit(X=x_train.drop(['merchandise', 'bidder_id', 'auction'], axis = 1).fillna(method='ffill'), y=y_train)"
   ]
  },
  {
   "cell_type": "code",
   "execution_count": 93,
   "metadata": {
    "collapsed": false
   },
   "outputs": [
    {
     "data": {
      "text/plain": [
       "0.86617197204400154"
      ]
     },
     "execution_count": 93,
     "metadata": {},
     "output_type": "execute_result"
    }
   ],
   "source": [
    "ada.score(x_test.fillna(method='ffill').drop(['merchandise', 'bidder_id', 'auction'], axis = 1), y_test)"
   ]
  },
  {
   "cell_type": "code",
   "execution_count": 79,
   "metadata": {
    "collapsed": false
   },
   "outputs": [],
   "source": [
    "pred = ada.predict(test_data.fillna(method='ffill').drop(['merchandise', 'bidder_id', 'auction'], axis = 1))"
   ]
  },
  {
   "cell_type": "code",
   "execution_count": 80,
   "metadata": {
    "collapsed": false
   },
   "outputs": [],
   "source": [
    "pred_df = pd.DataFrame(pred)"
   ]
  },
  {
   "cell_type": "code",
   "execution_count": 67,
   "metadata": {
    "collapsed": true
   },
   "outputs": [],
   "source": [
    "bidder_ids = test_data[['bidder_id']]"
   ]
  },
  {
   "cell_type": "code",
   "execution_count": 68,
   "metadata": {
    "collapsed": false
   },
   "outputs": [],
   "source": [
    "sub = pd.merge(bidder_ids, pred_df, left_index=True, right_index=True, how = 'left')"
   ]
  },
  {
   "cell_type": "code",
   "execution_count": 69,
   "metadata": {
    "collapsed": false
   },
   "outputs": [],
   "source": [
    "sub = sub.rename(columns = {0:'prediction'})"
   ]
  },
  {
   "cell_type": "code",
   "execution_count": 70,
   "metadata": {
    "collapsed": false
   },
   "outputs": [],
   "source": [
    "sub_new = sub.groupby('bidder_id')['prediction']"
   ]
  },
  {
   "cell_type": "code",
   "execution_count": 33,
   "metadata": {
    "collapsed": false
   },
   "outputs": [
    {
     "data": {
      "text/plain": [
       "4700"
      ]
     },
     "execution_count": 33,
     "metadata": {},
     "output_type": "execute_result"
    }
   ],
   "source": [
    "len(sub_new)"
   ]
  },
  {
   "cell_type": "code",
   "execution_count": 46,
   "metadata": {
    "collapsed": false
   },
   "outputs": [],
   "source": [
    "sub_final = pd.DataFrame(sub_new).rename(columns={0:'prediction'}).reset_index()"
   ]
  },
  {
   "cell_type": "code",
   "execution_count": 48,
   "metadata": {
    "collapsed": true
   },
   "outputs": [],
   "source": [
    "sub_final.to_csv('submission.csv')"
   ]
  },
  {
   "cell_type": "code",
   "execution_count": 49,
   "metadata": {
    "collapsed": false
   },
   "outputs": [],
   "source": [
    "tb_ids = bidder_test[['bidder_id']]"
   ]
  },
  {
   "cell_type": "code",
   "execution_count": 50,
   "metadata": {
    "collapsed": false
   },
   "outputs": [],
   "source": [
    "sub_ulti = tb_ids.merge(sub_final, left_on = 'bidder_id', right_on='bidder_id', how = 'left')"
   ]
  },
  {
   "cell_type": "code",
   "execution_count": 51,
   "metadata": {
    "collapsed": true
   },
   "outputs": [],
   "source": [
    "sub_ulti.set_index('bidder_id').to_csv('submission.csv')"
   ]
  },
  {
   "cell_type": "code",
   "execution_count": 58,
   "metadata": {
    "collapsed": false
   },
   "outputs": [
    {
     "name": "stdout",
     "output_type": "stream",
     "text": [
      "<class 'pandas.core.frame.DataFrame'>\n",
      "RangeIndex: 7656334 entries, 0 to 7656333\n",
      "Data columns (total 7 columns):\n",
      "bid_id         int64\n",
      "bidder_id      object\n",
      "auction        object\n",
      "merchandise    object\n",
      "device         object\n",
      "time           int64\n",
      "country        object\n",
      "dtypes: int64(2), object(5)\n",
      "memory usage: 408.9+ MB\n"
     ]
    }
   ],
   "source": [
    "data.info()"
   ]
  }
 ],
 "metadata": {
  "anaconda-cloud": {},
  "kernelspec": {
   "display_name": "Python [Root]",
   "language": "python",
   "name": "Python [Root]"
  },
  "language_info": {
   "codemirror_mode": {
    "name": "ipython",
    "version": 3
   },
   "file_extension": ".py",
   "mimetype": "text/x-python",
   "name": "python",
   "nbconvert_exporter": "python",
   "pygments_lexer": "ipython3",
   "version": "3.5.2"
  }
 },
 "nbformat": 4,
 "nbformat_minor": 0
}
